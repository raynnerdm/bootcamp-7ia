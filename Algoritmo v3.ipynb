{
 "cells": [
  {
   "cell_type": "markdown",
   "metadata": {},
   "source": [
    "# Bootcamp - 7IA"
   ]
  },
  {
   "cell_type": "markdown",
   "metadata": {},
   "source": [
    "INTEGRANTES\n",
    "1. Leonardo Tozo Bisinoto – RM: 334513\n",
    "2. Mauro Batina Rorato – RM: 335029\n",
    "3. Pedro Lucas da Silva Junior – RM: 334544\n",
    "4. Raynner Dourado Matos – RM: 335024"
   ]
  },
  {
   "cell_type": "code",
   "execution_count": 229,
   "metadata": {},
   "outputs": [],
   "source": [
    "import pandas as pd\n",
    "import numpy as np\n",
    "import matplotlib.pyplot as plt\n",
    "from sklearn.preprocessing import MaxAbsScaler, StandardScaler\n",
    "from scipy import stats\n",
    "from scipy.spatial import distance"
   ]
  },
  {
   "cell_type": "code",
   "execution_count": 230,
   "metadata": {},
   "outputs": [
    {
     "name": "stderr",
     "output_type": "stream",
     "text": [
      "C:\\ProgramData\\Anaconda3\\lib\\site-packages\\IPython\\core\\interactiveshell.py:3058: DtypeWarning: Columns (62) have mixed types. Specify dtype option on import or set low_memory=False.\n",
      "  interactivity=interactivity, compiler=compiler, result=result)\n"
     ]
    },
    {
     "data": {
      "text/html": [
       "<div>\n",
       "<style scoped>\n",
       "    .dataframe tbody tr th:only-of-type {\n",
       "        vertical-align: middle;\n",
       "    }\n",
       "\n",
       "    .dataframe tbody tr th {\n",
       "        vertical-align: top;\n",
       "    }\n",
       "\n",
       "    .dataframe thead th {\n",
       "        text-align: right;\n",
       "    }\n",
       "</style>\n",
       "<table border=\"1\" class=\"dataframe\">\n",
       "  <thead>\n",
       "    <tr style=\"text-align: right;\">\n",
       "      <th></th>\n",
       "      <th>Unnamed: 0</th>\n",
       "      <th>Id</th>\n",
       "      <th>Idade</th>\n",
       "      <th>EstadoCivil</th>\n",
       "      <th>BillingCity</th>\n",
       "      <th>NivelConhecimentoAtual</th>\n",
       "      <th>ScoreNivelConhecimento</th>\n",
       "      <th>PerfilInvestidor</th>\n",
       "      <th>RendaMensal</th>\n",
       "      <th>ValorPatrimonio</th>\n",
       "      <th>...</th>\n",
       "      <th>ValorMinimoAplicacaoAdicional</th>\n",
       "      <th>DataVencimento</th>\n",
       "      <th>FamiliaCarteira</th>\n",
       "      <th>ValorInvestidoAtual</th>\n",
       "      <th>ValorRendimento</th>\n",
       "      <th>Rentabilidade12Meses</th>\n",
       "      <th>RentabilidadeMes</th>\n",
       "      <th>RiscoAtivo</th>\n",
       "      <th>Status</th>\n",
       "      <th>ProdutoId</th>\n",
       "    </tr>\n",
       "  </thead>\n",
       "  <tbody>\n",
       "    <tr>\n",
       "      <td>0</td>\n",
       "      <td>0</td>\n",
       "      <td>$2b$10$.DCvvJ9WSDpqVP2xXjeSPe9yBilu2JVQh2nFTHNKB5GXhV/iqGi4K</td>\n",
       "      <td>30</td>\n",
       "      <td>M</td>\n",
       "      <td>Aracruz</td>\n",
       "      <td>1.0</td>\n",
       "      <td>1.0</td>\n",
       "      <td>2</td>\n",
       "      <td>1300.0</td>\n",
       "      <td>6000.0</td>\n",
       "      <td>...</td>\n",
       "      <td>30.0</td>\n",
       "      <td>NaN</td>\n",
       "      <td>Renda Fixa</td>\n",
       "      <td>30.0</td>\n",
       "      <td>NaN</td>\n",
       "      <td>0.0</td>\n",
       "      <td>0.37005375</td>\n",
       "      <td>1.0</td>\n",
       "      <td>Efetivada</td>\n",
       "      <td>a0W6A000009GZdgUAG</td>\n",
       "    </tr>\n",
       "    <tr>\n",
       "      <td>1</td>\n",
       "      <td>1</td>\n",
       "      <td>$2b$10$.DCvvJ9WSDpqVP2xXjeSPeR6I3TrUCl/MAePvQQcvloiuSPbG0TpW</td>\n",
       "      <td>25</td>\n",
       "      <td>S</td>\n",
       "      <td>Teresina</td>\n",
       "      <td>1.0</td>\n",
       "      <td>1.0</td>\n",
       "      <td>2</td>\n",
       "      <td>500.0</td>\n",
       "      <td>NaN</td>\n",
       "      <td>...</td>\n",
       "      <td>30.0</td>\n",
       "      <td>NaN</td>\n",
       "      <td>Renda Fixa</td>\n",
       "      <td>150.0</td>\n",
       "      <td>NaN</td>\n",
       "      <td>0.0</td>\n",
       "      <td>0.05684974</td>\n",
       "      <td>1.0</td>\n",
       "      <td>Efetivada</td>\n",
       "      <td>a0W6A000009GZdgUAG</td>\n",
       "    </tr>\n",
       "    <tr>\n",
       "      <td>2</td>\n",
       "      <td>2</td>\n",
       "      <td>$2b$10$.DCvvJ9WSDpqVP2xXjeSPeR6I3TrUCl/MAePvQQcvloiuSPbG0TpW</td>\n",
       "      <td>25</td>\n",
       "      <td>S</td>\n",
       "      <td>Teresina</td>\n",
       "      <td>1.0</td>\n",
       "      <td>1.0</td>\n",
       "      <td>2</td>\n",
       "      <td>500.0</td>\n",
       "      <td>NaN</td>\n",
       "      <td>...</td>\n",
       "      <td>30.0</td>\n",
       "      <td>NaN</td>\n",
       "      <td>Renda Fixa</td>\n",
       "      <td>50.0</td>\n",
       "      <td>NaN</td>\n",
       "      <td>0.0</td>\n",
       "      <td>0.05684974</td>\n",
       "      <td>1.0</td>\n",
       "      <td>Efetivada</td>\n",
       "      <td>a0W6A000009GZdgUAG</td>\n",
       "    </tr>\n",
       "    <tr>\n",
       "      <td>3</td>\n",
       "      <td>3</td>\n",
       "      <td>$2b$10$.DCvvJ9WSDpqVP2xXjeSPeR6I3TrUCl/MAePvQQcvloiuSPbG0TpW</td>\n",
       "      <td>25</td>\n",
       "      <td>S</td>\n",
       "      <td>Teresina</td>\n",
       "      <td>1.0</td>\n",
       "      <td>1.0</td>\n",
       "      <td>2</td>\n",
       "      <td>500.0</td>\n",
       "      <td>NaN</td>\n",
       "      <td>...</td>\n",
       "      <td>30.0</td>\n",
       "      <td>NaN</td>\n",
       "      <td>Renda Fixa</td>\n",
       "      <td>60.0</td>\n",
       "      <td>NaN</td>\n",
       "      <td>0.0</td>\n",
       "      <td>0.13178136</td>\n",
       "      <td>1.0</td>\n",
       "      <td>Efetivada</td>\n",
       "      <td>a0W6A000009GZdgUAG</td>\n",
       "    </tr>\n",
       "    <tr>\n",
       "      <td>4</td>\n",
       "      <td>4</td>\n",
       "      <td>$2b$10$.DCvvJ9WSDpqVP2xXjeSPeR6I3TrUCl/MAePvQQcvloiuSPbG0TpW</td>\n",
       "      <td>25</td>\n",
       "      <td>S</td>\n",
       "      <td>Teresina</td>\n",
       "      <td>1.0</td>\n",
       "      <td>1.0</td>\n",
       "      <td>2</td>\n",
       "      <td>500.0</td>\n",
       "      <td>NaN</td>\n",
       "      <td>...</td>\n",
       "      <td>30.0</td>\n",
       "      <td>NaN</td>\n",
       "      <td>Renda Fixa</td>\n",
       "      <td>40.0</td>\n",
       "      <td>NaN</td>\n",
       "      <td>0.0</td>\n",
       "      <td>0.15076414</td>\n",
       "      <td>1.0</td>\n",
       "      <td>Efetivada</td>\n",
       "      <td>a0W6A000009GZdgUAG</td>\n",
       "    </tr>\n",
       "  </tbody>\n",
       "</table>\n",
       "<p>5 rows × 66 columns</p>\n",
       "</div>"
      ],
      "text/plain": [
       "   Unnamed: 0                                                            Id  \\\n",
       "0           0  $2b$10$.DCvvJ9WSDpqVP2xXjeSPe9yBilu2JVQh2nFTHNKB5GXhV/iqGi4K   \n",
       "1           1  $2b$10$.DCvvJ9WSDpqVP2xXjeSPeR6I3TrUCl/MAePvQQcvloiuSPbG0TpW   \n",
       "2           2  $2b$10$.DCvvJ9WSDpqVP2xXjeSPeR6I3TrUCl/MAePvQQcvloiuSPbG0TpW   \n",
       "3           3  $2b$10$.DCvvJ9WSDpqVP2xXjeSPeR6I3TrUCl/MAePvQQcvloiuSPbG0TpW   \n",
       "4           4  $2b$10$.DCvvJ9WSDpqVP2xXjeSPeR6I3TrUCl/MAePvQQcvloiuSPbG0TpW   \n",
       "\n",
       "   Idade EstadoCivil BillingCity  NivelConhecimentoAtual  \\\n",
       "0     30           M     Aracruz                     1.0   \n",
       "1     25           S    Teresina                     1.0   \n",
       "2     25           S    Teresina                     1.0   \n",
       "3     25           S    Teresina                     1.0   \n",
       "4     25           S    Teresina                     1.0   \n",
       "\n",
       "   ScoreNivelConhecimento  PerfilInvestidor  RendaMensal  ValorPatrimonio  \\\n",
       "0                     1.0                 2       1300.0           6000.0   \n",
       "1                     1.0                 2        500.0              NaN   \n",
       "2                     1.0                 2        500.0              NaN   \n",
       "3                     1.0                 2        500.0              NaN   \n",
       "4                     1.0                 2        500.0              NaN   \n",
       "\n",
       "   ... ValorMinimoAplicacaoAdicional DataVencimento FamiliaCarteira  \\\n",
       "0  ...                          30.0            NaN      Renda Fixa   \n",
       "1  ...                          30.0            NaN      Renda Fixa   \n",
       "2  ...                          30.0            NaN      Renda Fixa   \n",
       "3  ...                          30.0            NaN      Renda Fixa   \n",
       "4  ...                          30.0            NaN      Renda Fixa   \n",
       "\n",
       "  ValorInvestidoAtual ValorRendimento Rentabilidade12Meses RentabilidadeMes  \\\n",
       "0                30.0             NaN                  0.0       0.37005375   \n",
       "1               150.0             NaN                  0.0       0.05684974   \n",
       "2                50.0             NaN                  0.0       0.05684974   \n",
       "3                60.0             NaN                  0.0       0.13178136   \n",
       "4                40.0             NaN                  0.0       0.15076414   \n",
       "\n",
       "  RiscoAtivo     Status           ProdutoId  \n",
       "0        1.0  Efetivada  a0W6A000009GZdgUAG  \n",
       "1        1.0  Efetivada  a0W6A000009GZdgUAG  \n",
       "2        1.0  Efetivada  a0W6A000009GZdgUAG  \n",
       "3        1.0  Efetivada  a0W6A000009GZdgUAG  \n",
       "4        1.0  Efetivada  a0W6A000009GZdgUAG  \n",
       "\n",
       "[5 rows x 66 columns]"
      ]
     },
     "execution_count": 230,
     "metadata": {},
     "output_type": "execute_result"
    }
   ],
   "source": [
    "dataset_1 = pd.read_csv('Dataset-1.csv', encoding='utf-8')\n",
    "dataset_3 = pd.read_csv('Dataset-3.csv', encoding='utf-8')\n",
    "dataset_1.head()"
   ]
  },
  {
   "cell_type": "code",
   "execution_count": 231,
   "metadata": {},
   "outputs": [
    {
     "data": {
      "text/plain": [
       "Index(['Unnamed: 0', 'Id', 'Idade', 'EstadoCivil', 'BillingCity',\n",
       "       'NivelConhecimentoAtual', 'ScoreNivelConhecimento', 'PerfilInvestidor',\n",
       "       'RendaMensal', 'ValorPatrimonio', 'Pergunta1', 'Resposta11',\n",
       "       'Pergunta2', 'Resposta21', 'Pergunta3', 'Resposta31', 'Pergunta4',\n",
       "       'Resposta41', 'Pergunta5', 'Resposta51', 'Resposta52', 'Resposta53',\n",
       "       'Resposta54', 'Resposta55', 'Resposta56', 'Resposta57', 'Resposta58',\n",
       "       'Pergunta6', 'Resposta61', 'Resposta62', 'Resposta63', 'Resposta64',\n",
       "       'Resposta65', 'Resposta66', 'Resposta67', 'Resposta68', 'Pergunta7',\n",
       "       'Resposta71', 'Resposta72', 'Resposta73', 'Resposta74', 'Resposta75',\n",
       "       'Pergunta8', 'Resposta81', 'Pergunta9', 'Resposta91', 'ScoreRisco',\n",
       "       'ScoreObjetivos', 'ScoreSituacaoFinanceira', 'Produto', 'NomeDoProduto',\n",
       "       'NomeEmissor', 'TaxaCliente', 'TaxaPreCliente', 'DescricaoProduto',\n",
       "       'ValorMinimoAplicaInicial', 'ValorMinimoAplicacaoAdicional',\n",
       "       'DataVencimento', 'FamiliaCarteira', 'ValorInvestidoAtual',\n",
       "       'ValorRendimento', 'Rentabilidade12Meses', 'RentabilidadeMes',\n",
       "       'RiscoAtivo', 'Status', 'ProdutoId'],\n",
       "      dtype='object')"
      ]
     },
     "execution_count": 231,
     "metadata": {},
     "output_type": "execute_result"
    }
   ],
   "source": [
    "dataset_1.columns"
   ]
  },
  {
   "cell_type": "code",
   "execution_count": 232,
   "metadata": {
    "scrolled": true
   },
   "outputs": [
    {
     "data": {
      "text/html": [
       "<div>\n",
       "<style scoped>\n",
       "    .dataframe tbody tr th:only-of-type {\n",
       "        vertical-align: middle;\n",
       "    }\n",
       "\n",
       "    .dataframe tbody tr th {\n",
       "        vertical-align: top;\n",
       "    }\n",
       "\n",
       "    .dataframe thead th {\n",
       "        text-align: right;\n",
       "    }\n",
       "</style>\n",
       "<table border=\"1\" class=\"dataframe\">\n",
       "  <thead>\n",
       "    <tr style=\"text-align: right;\">\n",
       "      <th></th>\n",
       "      <th>NivelConhecimentoAtual</th>\n",
       "      <th>ScoreNivelConhecimento</th>\n",
       "      <th>PerfilInvestidor</th>\n",
       "      <th>RendaMensal</th>\n",
       "      <th>ValorPatrimonio</th>\n",
       "      <th>ScoreRisco</th>\n",
       "      <th>ScoreObjetivos</th>\n",
       "      <th>ScoreSituacaoFinanceira</th>\n",
       "      <th>TaxaCliente</th>\n",
       "      <th>TaxaPreCliente</th>\n",
       "      <th>ValorMinimoAplicaInicial</th>\n",
       "      <th>ValorMinimoAplicacaoAdicional</th>\n",
       "      <th>ValorInvestidoAtual</th>\n",
       "      <th>ValorRendimento</th>\n",
       "      <th>Rentabilidade12Meses</th>\n",
       "      <th>RiscoAtivo</th>\n",
       "    </tr>\n",
       "  </thead>\n",
       "  <tbody>\n",
       "    <tr>\n",
       "      <td>count</td>\n",
       "      <td>34956.000000</td>\n",
       "      <td>37577.000000</td>\n",
       "      <td>38102.000000</td>\n",
       "      <td>3.810200e+04</td>\n",
       "      <td>2.565000e+04</td>\n",
       "      <td>37577.000000</td>\n",
       "      <td>37577.000000</td>\n",
       "      <td>37577.000000</td>\n",
       "      <td>5614.000000</td>\n",
       "      <td>5615.000000</td>\n",
       "      <td>22746.000000</td>\n",
       "      <td>30929.000000</td>\n",
       "      <td>36483.000000</td>\n",
       "      <td>5421.000000</td>\n",
       "      <td>30861.000000</td>\n",
       "      <td>36476.000000</td>\n",
       "    </tr>\n",
       "    <tr>\n",
       "      <td>mean</td>\n",
       "      <td>2.480804</td>\n",
       "      <td>2.533678</td>\n",
       "      <td>2.779959</td>\n",
       "      <td>8.368189e+03</td>\n",
       "      <td>9.122847e+05</td>\n",
       "      <td>2.671874</td>\n",
       "      <td>3.141815</td>\n",
       "      <td>2.124252</td>\n",
       "      <td>98.189526</td>\n",
       "      <td>0.413389</td>\n",
       "      <td>744.188094</td>\n",
       "      <td>360.480540</td>\n",
       "      <td>4046.749768</td>\n",
       "      <td>196.936554</td>\n",
       "      <td>9.666901</td>\n",
       "      <td>2.615309</td>\n",
       "    </tr>\n",
       "    <tr>\n",
       "      <td>std</td>\n",
       "      <td>1.522709</td>\n",
       "      <td>1.538015</td>\n",
       "      <td>1.121397</td>\n",
       "      <td>2.754596e+04</td>\n",
       "      <td>1.498490e+07</td>\n",
       "      <td>1.109866</td>\n",
       "      <td>1.176798</td>\n",
       "      <td>1.012600</td>\n",
       "      <td>26.149983</td>\n",
       "      <td>1.776756</td>\n",
       "      <td>2344.743320</td>\n",
       "      <td>1032.730307</td>\n",
       "      <td>17034.380766</td>\n",
       "      <td>748.580640</td>\n",
       "      <td>18.926591</td>\n",
       "      <td>1.532361</td>\n",
       "    </tr>\n",
       "    <tr>\n",
       "      <td>min</td>\n",
       "      <td>1.000000</td>\n",
       "      <td>1.000000</td>\n",
       "      <td>0.000000</td>\n",
       "      <td>0.000000e+00</td>\n",
       "      <td>0.000000e+00</td>\n",
       "      <td>1.000000</td>\n",
       "      <td>1.000000</td>\n",
       "      <td>1.000000</td>\n",
       "      <td>0.000000</td>\n",
       "      <td>0.000000</td>\n",
       "      <td>0.000000</td>\n",
       "      <td>0.000000</td>\n",
       "      <td>0.000000</td>\n",
       "      <td>0.000000</td>\n",
       "      <td>-99.693346</td>\n",
       "      <td>0.000000</td>\n",
       "    </tr>\n",
       "    <tr>\n",
       "      <td>25%</td>\n",
       "      <td>1.000000</td>\n",
       "      <td>1.000000</td>\n",
       "      <td>2.000000</td>\n",
       "      <td>2.000000e+03</td>\n",
       "      <td>4.000000e+04</td>\n",
       "      <td>2.000000</td>\n",
       "      <td>2.000000</td>\n",
       "      <td>1.000000</td>\n",
       "      <td>94.000000</td>\n",
       "      <td>0.000000</td>\n",
       "      <td>30.000000</td>\n",
       "      <td>30.000000</td>\n",
       "      <td>40.000000</td>\n",
       "      <td>7.490000</td>\n",
       "      <td>0.000000</td>\n",
       "      <td>1.000000</td>\n",
       "    </tr>\n",
       "    <tr>\n",
       "      <td>50%</td>\n",
       "      <td>2.000000</td>\n",
       "      <td>2.000000</td>\n",
       "      <td>3.000000</td>\n",
       "      <td>4.200000e+03</td>\n",
       "      <td>2.000000e+05</td>\n",
       "      <td>3.000000</td>\n",
       "      <td>3.000000</td>\n",
       "      <td>2.000000</td>\n",
       "      <td>101.000000</td>\n",
       "      <td>0.000000</td>\n",
       "      <td>30.000000</td>\n",
       "      <td>30.000000</td>\n",
       "      <td>300.000000</td>\n",
       "      <td>28.080000</td>\n",
       "      <td>0.000000</td>\n",
       "      <td>2.000000</td>\n",
       "    </tr>\n",
       "    <tr>\n",
       "      <td>75%</td>\n",
       "      <td>4.000000</td>\n",
       "      <td>4.000000</td>\n",
       "      <td>4.000000</td>\n",
       "      <td>1.000000e+04</td>\n",
       "      <td>7.000000e+05</td>\n",
       "      <td>3.000000</td>\n",
       "      <td>4.000000</td>\n",
       "      <td>3.000000</td>\n",
       "      <td>113.000000</td>\n",
       "      <td>0.000000</td>\n",
       "      <td>500.000000</td>\n",
       "      <td>100.000000</td>\n",
       "      <td>2000.000000</td>\n",
       "      <td>103.750000</td>\n",
       "      <td>11.122177</td>\n",
       "      <td>4.000000</td>\n",
       "    </tr>\n",
       "    <tr>\n",
       "      <td>max</td>\n",
       "      <td>5.000000</td>\n",
       "      <td>5.000000</td>\n",
       "      <td>5.000000</td>\n",
       "      <td>2.400000e+06</td>\n",
       "      <td>1.500000e+09</td>\n",
       "      <td>5.000000</td>\n",
       "      <td>5.000000</td>\n",
       "      <td>5.000000</td>\n",
       "      <td>140.000000</td>\n",
       "      <td>12.000000</td>\n",
       "      <td>50000.000000</td>\n",
       "      <td>30000.000000</td>\n",
       "      <td>800000.000000</td>\n",
       "      <td>16834.210000</td>\n",
       "      <td>584.324863</td>\n",
       "      <td>5.000000</td>\n",
       "    </tr>\n",
       "  </tbody>\n",
       "</table>\n",
       "</div>"
      ],
      "text/plain": [
       "       NivelConhecimentoAtual  ScoreNivelConhecimento  PerfilInvestidor  \\\n",
       "count            34956.000000            37577.000000      38102.000000   \n",
       "mean                 2.480804                2.533678          2.779959   \n",
       "std                  1.522709                1.538015          1.121397   \n",
       "min                  1.000000                1.000000          0.000000   \n",
       "25%                  1.000000                1.000000          2.000000   \n",
       "50%                  2.000000                2.000000          3.000000   \n",
       "75%                  4.000000                4.000000          4.000000   \n",
       "max                  5.000000                5.000000          5.000000   \n",
       "\n",
       "        RendaMensal  ValorPatrimonio    ScoreRisco  ScoreObjetivos  \\\n",
       "count  3.810200e+04     2.565000e+04  37577.000000    37577.000000   \n",
       "mean   8.368189e+03     9.122847e+05      2.671874        3.141815   \n",
       "std    2.754596e+04     1.498490e+07      1.109866        1.176798   \n",
       "min    0.000000e+00     0.000000e+00      1.000000        1.000000   \n",
       "25%    2.000000e+03     4.000000e+04      2.000000        2.000000   \n",
       "50%    4.200000e+03     2.000000e+05      3.000000        3.000000   \n",
       "75%    1.000000e+04     7.000000e+05      3.000000        4.000000   \n",
       "max    2.400000e+06     1.500000e+09      5.000000        5.000000   \n",
       "\n",
       "       ScoreSituacaoFinanceira  TaxaCliente  TaxaPreCliente  \\\n",
       "count             37577.000000  5614.000000     5615.000000   \n",
       "mean                  2.124252    98.189526        0.413389   \n",
       "std                   1.012600    26.149983        1.776756   \n",
       "min                   1.000000     0.000000        0.000000   \n",
       "25%                   1.000000    94.000000        0.000000   \n",
       "50%                   2.000000   101.000000        0.000000   \n",
       "75%                   3.000000   113.000000        0.000000   \n",
       "max                   5.000000   140.000000       12.000000   \n",
       "\n",
       "       ValorMinimoAplicaInicial  ValorMinimoAplicacaoAdicional  \\\n",
       "count              22746.000000                   30929.000000   \n",
       "mean                 744.188094                     360.480540   \n",
       "std                 2344.743320                    1032.730307   \n",
       "min                    0.000000                       0.000000   \n",
       "25%                   30.000000                      30.000000   \n",
       "50%                   30.000000                      30.000000   \n",
       "75%                  500.000000                     100.000000   \n",
       "max                50000.000000                   30000.000000   \n",
       "\n",
       "       ValorInvestidoAtual  ValorRendimento  Rentabilidade12Meses  \\\n",
       "count         36483.000000      5421.000000          30861.000000   \n",
       "mean           4046.749768       196.936554              9.666901   \n",
       "std           17034.380766       748.580640             18.926591   \n",
       "min               0.000000         0.000000            -99.693346   \n",
       "25%              40.000000         7.490000              0.000000   \n",
       "50%             300.000000        28.080000              0.000000   \n",
       "75%            2000.000000       103.750000             11.122177   \n",
       "max          800000.000000     16834.210000            584.324863   \n",
       "\n",
       "         RiscoAtivo  \n",
       "count  36476.000000  \n",
       "mean       2.615309  \n",
       "std        1.532361  \n",
       "min        0.000000  \n",
       "25%        1.000000  \n",
       "50%        2.000000  \n",
       "75%        4.000000  \n",
       "max        5.000000  "
      ]
     },
     "execution_count": 232,
     "metadata": {},
     "output_type": "execute_result"
    }
   ],
   "source": [
    "dataset_1[['NivelConhecimentoAtual', 'ScoreNivelConhecimento', 'PerfilInvestidor',\n",
    "       'RendaMensal', 'ValorPatrimonio','ScoreRisco',\n",
    "       'ScoreObjetivos', 'ScoreSituacaoFinanceira', 'Produto', 'NomeDoProduto',\n",
    "       'NomeEmissor', 'TaxaCliente', 'TaxaPreCliente', 'DescricaoProduto',\n",
    "       'ValorMinimoAplicaInicial', 'ValorMinimoAplicacaoAdicional',\n",
    "       'DataVencimento', 'FamiliaCarteira', 'ValorInvestidoAtual',\n",
    "       'ValorRendimento', 'Rentabilidade12Meses', 'RentabilidadeMes',\n",
    "       'RiscoAtivo', 'Status']].describe()"
   ]
  },
  {
   "cell_type": "markdown",
   "metadata": {},
   "source": [
    "##### Distrubição das pessoas entre os diferentes scores de conhecimento e perfis de investimento:"
   ]
  },
  {
   "cell_type": "code",
   "execution_count": 233,
   "metadata": {},
   "outputs": [
    {
     "data": {
      "text/plain": [
       "<matplotlib.axes._subplots.AxesSubplot at 0x21828a73788>"
      ]
     },
     "execution_count": 233,
     "metadata": {},
     "output_type": "execute_result"
    },
    {
     "data": {
      "image/png": "[encoded data removed]",
      "text/plain": [
       "<Figure size 1152x576 with 1 Axes>"
      ]
     },
     "metadata": {},
     "output_type": "display_data"
    }
   ],
   "source": [
    "pie = dataset_1.drop_duplicates('Id').ScoreNivelConhecimento.value_counts()\n",
    "plt.figure(figsize=(16,8))\n",
    "# plot chart\n",
    "ax1 = plt.subplot(121, aspect='equal')\n",
    "pie.plot(kind='pie', y = 'total_arrests', ax=ax1, autopct='%1.1f%%', \n",
    " startangle=90, shadow=False, legend = False, fontsize=14)"
   ]
  },
  {
   "cell_type": "code",
   "execution_count": 234,
   "metadata": {},
   "outputs": [
    {
     "data": {
      "text/plain": [
       "<matplotlib.axes._subplots.AxesSubplot at 0x2184d7c5948>"
      ]
     },
     "execution_count": 234,
     "metadata": {},
     "output_type": "execute_result"
    },
    {
     "data": {
      "image/png": "[encoded data removed]",
      "text/plain": [
       "<Figure size 1152x576 with 1 Axes>"
      ]
     },
     "metadata": {},
     "output_type": "display_data"
    }
   ],
   "source": [
    "pie = dataset_1.drop_duplicates('Id').PerfilInvestidor.value_counts()\n",
    "plt.figure(figsize=(16,8))\n",
    "# plot chart\n",
    "ax1 = plt.subplot(121, aspect='equal')\n",
    "pie.plot(kind='pie', y = 'total_arrests', ax=ax1, autopct='%1.1f%%', \n",
    " startangle=90, shadow=False, legend = False, fontsize=14)"
   ]
  },
  {
   "cell_type": "markdown",
   "metadata": {},
   "source": [
    "##### Verificando o comportamento da rentabilidade de 12 meses:"
   ]
  },
  {
   "cell_type": "code",
   "execution_count": 235,
   "metadata": {},
   "outputs": [
    {
     "data": {
      "text/plain": [
       "<matplotlib.axes._subplots.AxesSubplot at 0x21803c4a3c8>"
      ]
     },
     "execution_count": 235,
     "metadata": {},
     "output_type": "execute_result"
    },
    {
     "data": {
      "image/png": "[encoded data removed]",
      "text/plain": [
       "<Figure size 1152x432 with 1 Axes>"
      ]
     },
     "metadata": {
      "needs_background": "light"
     },
     "output_type": "display_data"
    }
   ],
   "source": [
    "dataset_1['Rentabilidade12Meses'].hist(bins=50,figsize=(16,6))"
   ]
  },
  {
   "cell_type": "code",
   "execution_count": 236,
   "metadata": {},
   "outputs": [
    {
     "data": {
      "text/plain": [
       "<matplotlib.axes._subplots.AxesSubplot at 0x218037c3788>"
      ]
     },
     "execution_count": 236,
     "metadata": {},
     "output_type": "execute_result"
    },
    {
     "data": {
      "image/png": "[encoded data removed]",
      "text/plain": [
       "<Figure size 1152x432 with 1 Axes>"
      ]
     },
     "metadata": {
      "needs_background": "light"
     },
     "output_type": "display_data"
    }
   ],
   "source": [
    "dataset_1['Rentabilidade12Meses'][(dataset_1.ScoreNivelConhecimento > 3) & (dataset_1.Rentabilidade12Meses < 150)].hist(bins=50,figsize=(16,6))"
   ]
  },
  {
   "cell_type": "code",
   "execution_count": 237,
   "metadata": {},
   "outputs": [
    {
     "data": {
      "text/plain": [
       "<matplotlib.axes._subplots.AxesSubplot at 0x2180390a188>"
      ]
     },
     "execution_count": 237,
     "metadata": {},
     "output_type": "execute_result"
    },
    {
     "data": {
      "image/png": "[encoded data removed]",
      "text/plain": [
       "<Figure size 1152x432 with 1 Axes>"
      ]
     },
     "metadata": {
      "needs_background": "light"
     },
     "output_type": "display_data"
    }
   ],
   "source": [
    "dataset_1['Rentabilidade12Meses'][(dataset_1.ScoreNivelConhecimento <= 3) & (dataset_1.Rentabilidade12Meses < 100)].hist(bins=50,figsize=(16,6))"
   ]
  },
  {
   "cell_type": "markdown",
   "metadata": {},
   "source": [
    "Com os histogramas temos um primeiro indicativo que o grupo com maior conhecimento possuem rentabilidades maiores que os demais"
   ]
  },
  {
   "cell_type": "markdown",
   "metadata": {},
   "source": [
    "### Hipóteses a serem testadas:"
   ]
  },
  {
   "cell_type": "markdown",
   "metadata": {},
   "source": [
    "###### H0: Pessoas com score maior possuem a mesma rentabilidade  média  dos demais\n",
    "###### H1: Pessoas com score maior não possuem a mesma  rentabilidade média dos demais"
   ]
  },
  {
   "cell_type": "markdown",
   "metadata": {},
   "source": [
    "Iremos comparar a rentabilidade média dos clientes com score maior (4 e 5) com a média dos demais usando Teste t para a diferença entre Médias Amostrais. Estamos pressupondo que esse datatset é uma amostra aleatória de toda base de dados da Empresa. "
   ]
  },
  {
   "cell_type": "code",
   "execution_count": 238,
   "metadata": {},
   "outputs": [
    {
     "data": {
      "text/plain": [
       "8712"
      ]
     },
     "execution_count": 238,
     "metadata": {},
     "output_type": "execute_result"
    }
   ],
   "source": [
    "score_maior = dataset_1['Rentabilidade12Meses'][(dataset_1.ScoreNivelConhecimento > 3) & (dataset_1.Rentabilidade12Meses.notnull())]\n",
    "len(score_maior) "
   ]
  },
  {
   "cell_type": "code",
   "execution_count": 239,
   "metadata": {},
   "outputs": [
    {
     "data": {
      "text/plain": [
       "8712"
      ]
     },
     "execution_count": 239,
     "metadata": {},
     "output_type": "execute_result"
    }
   ],
   "source": [
    "score_menor = dataset_1['Rentabilidade12Meses'][(dataset_1.ScoreNivelConhecimento <= 3) & (dataset_1.Rentabilidade12Meses.notnull())]\\\n",
    ".sample(n=len(score_maior), random_state=100)\n",
    "len(score_menor) #garantir que as amostras tenham mesmo tamanho"
   ]
  },
  {
   "cell_type": "code",
   "execution_count": 240,
   "metadata": {},
   "outputs": [
    {
     "name": "stdout",
     "output_type": "stream",
     "text": [
      "Média do grupo de melhor score:  18.760621518509996\n",
      "Média do grupo de menor score:  6.0488254629844045\n"
     ]
    }
   ],
   "source": [
    "print('Média do grupo de melhor score: ',score_maior.mean())\n",
    "print('Média do grupo de menor score: ',score_menor.mean())"
   ]
  },
  {
   "cell_type": "markdown",
   "metadata": {},
   "source": [
    "Podemos observar que a média do grupo grupo com melhor score é superior, mas verifiquemos se essa diferença é estatisticamente relevante com um intervalo de confiança de 95%:"
   ]
  },
  {
   "cell_type": "code",
   "execution_count": 241,
   "metadata": {},
   "outputs": [],
   "source": [
    "var_score_maior = score_maior.var(ddof=1)\n",
    "var_score_menor = score_menor.var(ddof=1)"
   ]
  },
  {
   "cell_type": "code",
   "execution_count": 242,
   "metadata": {},
   "outputs": [],
   "source": [
    "s = np.sqrt((var_score_maior + var_score_menor)/2) # Desvio Padrão\n",
    "t = (score_maior.mean() - score_menor.mean())/(s*np.sqrt(2/len(score_maior)))  # Calculando estatistica t\n",
    "gl = 2*len(score_maior) - 2 # Graus de Liberdade"
   ]
  },
  {
   "cell_type": "code",
   "execution_count": 243,
   "metadata": {},
   "outputs": [],
   "source": [
    "p = 1 - stats.t.cdf(t,df=gl)"
   ]
  },
  {
   "cell_type": "code",
   "execution_count": 244,
   "metadata": {},
   "outputs": [
    {
     "name": "stdout",
     "output_type": "stream",
     "text": [
      "t = 42.44813890938526\n",
      "p = 0.0\n"
     ]
    }
   ],
   "source": [
    "print(\"t = \" + str(t))\n",
    "print(\"p = \" + str(2*p))"
   ]
  },
  {
   "cell_type": "markdown",
   "metadata": {},
   "source": [
    "Como p < 0.05 podemos rejeitar H0 e determinar que as médias de rentabilidade são distintas"
   ]
  },
  {
   "cell_type": "code",
   "execution_count": 245,
   "metadata": {},
   "outputs": [
    {
     "name": "stdout",
     "output_type": "stream",
     "text": [
      "t = 42.44813890938543\n",
      "p = 0.0\n"
     ]
    }
   ],
   "source": [
    "t2, p2 = stats.ttest_ind(score_maior,score_menor)\n",
    "print(\"t = \" + str(t2))\n",
    "print(\"p = \" + str(p2))"
   ]
  },
  {
   "cell_type": "markdown",
   "metadata": {},
   "source": [
    "Usando a função pronta da biblioteca scipy obtemos o mesmo resultado"
   ]
  },
  {
   "cell_type": "markdown",
   "metadata": {},
   "source": [
    "###### H0: Pessoas com score maior não possuem aplicações com melhores rentabilidades\n",
    "###### H1: Pessoas com score maior possuem aplicações com melhores rentabilidades"
   ]
  },
  {
   "cell_type": "markdown",
   "metadata": {},
   "source": [
    "Iremos comparar a média de rentabilidade dos clientes com score maior (4 e 5)  com a média de um grupo de mesmo tamanho escolhido aleatoriamente. "
   ]
  },
  {
   "cell_type": "code",
   "execution_count": 246,
   "metadata": {},
   "outputs": [
    {
     "data": {
      "text/plain": [
       "8712"
      ]
     },
     "execution_count": 246,
     "metadata": {},
     "output_type": "execute_result"
    }
   ],
   "source": [
    "len(score_maior)"
   ]
  },
  {
   "cell_type": "code",
   "execution_count": 247,
   "metadata": {},
   "outputs": [
    {
     "data": {
      "text/plain": [
       "8712"
      ]
     },
     "execution_count": 247,
     "metadata": {},
     "output_type": "execute_result"
    }
   ],
   "source": [
    "random = dataset_1['Rentabilidade12Meses'][(dataset_1.Rentabilidade12Meses.notnull())].sample(n=score_maior.count(), random_state=100)\n",
    "len(random)"
   ]
  },
  {
   "cell_type": "code",
   "execution_count": 248,
   "metadata": {},
   "outputs": [
    {
     "name": "stdout",
     "output_type": "stream",
     "text": [
      "Média do grupo de melhor score:  18.760621518509996\n",
      "Média do grupo aleatório:  9.714912584896718\n"
     ]
    }
   ],
   "source": [
    "print('Média do grupo de melhor score: ',score_maior.mean())\n",
    "print('Média do grupo aleatório: ',random.mean())"
   ]
  },
  {
   "cell_type": "markdown",
   "metadata": {},
   "source": [
    "Usando o mesmo o mesmo método anterior, verifiquemos se esta diferença tambem é estatisticamente relevante com um intervalo de confiança de 95%:"
   ]
  },
  {
   "cell_type": "code",
   "execution_count": 249,
   "metadata": {},
   "outputs": [
    {
     "name": "stdout",
     "output_type": "stream",
     "text": [
      "t = 27.320032014609694\n",
      "p = 5.9486448134001715e-161\n"
     ]
    }
   ],
   "source": [
    "t2, p2 = stats.ttest_ind(score_maior,random)\n",
    "print(\"t = \" + str(t2))\n",
    "print(\"p = \" + str(p2))"
   ]
  },
  {
   "cell_type": "markdown",
   "metadata": {},
   "source": [
    "Como a média do grupo de melhor score é maior que o aleatório e p valor é menor que 0.05 rejeitamos H0"
   ]
  },
  {
   "cell_type": "markdown",
   "metadata": {},
   "source": [
    "### Conclusão:"
   ]
  },
  {
   "cell_type": "markdown",
   "metadata": {},
   "source": [
    "Com os dois testes concluimos que o grupo com melhores scores (4 e 5) possuem rendimentos superiores."
   ]
  },
  {
   "cell_type": "markdown",
   "metadata": {},
   "source": [
    "### Sugestões de aplicação:"
   ]
  },
  {
   "cell_type": "markdown",
   "metadata": {},
   "source": [
    "Uma vez que os grupos com melhores score possuem melhores rendimentos, usaremos suas carteiras como sugestões para os demais clientes. As sugestões serão feitas com base na proximidade entre cada pessoa no grupo com menor score e pessoas com score maior. Primeiro estratificando por PerfilInvestidor para que não sejam oferecidos carteiras com perfis distintos e depois aproximando por RendaMensal e ValorPatromonio. Com isto pessoas com Renda mensal e Patrimonio próximos vão poder usufruir dos mesmo rendimentos que seus equivalentes com mais experiência."
   ]
  },
  {
   "cell_type": "markdown",
   "metadata": {},
   "source": [
    "Removendo os valores nulos e duplicados (o datasets está no nivel de produto e precisamos somente uma pessoa por linha)"
   ]
  },
  {
   "cell_type": "code",
   "execution_count": 250,
   "metadata": {},
   "outputs": [],
   "source": [
    "dataset_not_null = dataset_1[['Id','Rentabilidade12Meses','PerfilInvestidor','RendaMensal','ValorPatrimonio',\"ScoreNivelConhecimento\"]].dropna().drop_duplicates('Id').copy()\n"
   ]
  },
  {
   "cell_type": "markdown",
   "metadata": {},
   "source": [
    "Como trabalharemos com a distânncia é  importante normalizar os dados. Para isso usamos o Max como 1 e o Min como 0, preservando assim as distribuições "
   ]
  },
  {
   "cell_type": "code",
   "execution_count": 251,
   "metadata": {},
   "outputs": [],
   "source": [
    "dataset_not_null[\"RendaMensal\"] = MaxAbsScaler().fit_transform(np.array(dataset_not_null.RendaMensal).reshape(-1, 1))\n",
    "dataset_not_null[\"ValorPatrimonio\"] = MaxAbsScaler().fit_transform(np.array(dataset_not_null.ValorPatrimonio).reshape(-1, 1))"
   ]
  },
  {
   "cell_type": "markdown",
   "metadata": {},
   "source": [
    "Separamos as pessoas em dois grupos com maior score (4 ou 5) e pessoas com menor score (1, 2 e 3)"
   ]
  },
  {
   "cell_type": "code",
   "execution_count": 252,
   "metadata": {},
   "outputs": [],
   "source": [
    "score_maior = dataset_not_null.loc[dataset_not_null[\"ScoreNivelConhecimento\"] > 3]\n",
    "score_menor = dataset_not_null.loc[dataset_not_null[\"ScoreNivelConhecimento\"] <= 3]"
   ]
  },
  {
   "cell_type": "markdown",
   "metadata": {},
   "source": [
    "Estratificamos cada grupo em três faixas de acordo com a variavel 'PerfilInvestidor', para que assim só sejam oferecidas sugestões para pessoas com o mesmo perfil."
   ]
  },
  {
   "cell_type": "code",
   "execution_count": 253,
   "metadata": {},
   "outputs": [],
   "source": [
    "score_maior_conservador = score_maior.loc[(score_maior[\"PerfilInvestidor\"] == 1) | (score_maior[\"PerfilInvestidor\"] == 2)]\n",
    "score_maior_moderado = score_maior.loc[(score_maior[\"PerfilInvestidor\"] == 3) | (score_maior[\"PerfilInvestidor\"] == 4)]\n",
    "score_maior_arrojado = score_maior.loc[score_maior[\"PerfilInvestidor\"] == 5]\n",
    "\n",
    "score_menor_conservador = score_menor.loc[(score_menor[\"PerfilInvestidor\"] == 1) | (score_menor[\"PerfilInvestidor\"] == 2)]\n",
    "score_menor_moderado = score_menor.loc[(score_menor[\"PerfilInvestidor\"] == 3) | (score_menor[\"PerfilInvestidor\"] == 4)]\n",
    "score_menor_arrojado = score_menor.loc[score_menor[\"PerfilInvestidor\"] == 5]"
   ]
  },
  {
   "cell_type": "markdown",
   "metadata": {},
   "source": [
    "Cruzamos cada grupo menor com o seu equivalente de maior score, para assim termos na mesma linha as variavies 'RendaMensal','ValorPatrimonio' de cada grupo."
   ]
  },
  {
   "cell_type": "code",
   "execution_count": 254,
   "metadata": {},
   "outputs": [],
   "source": [
    "score_conservador = score_menor_conservador.assign(foo=1).merge(score_maior_conservador.assign(foo=1), on = 'foo', suffixes=('_menor', '_maior')).drop('foo', 1)\n",
    "score_moderado = score_menor_moderado.assign(foo=1).merge(score_maior_moderado.assign(foo=1), on = 'foo', suffixes=('_menor', '_maior')).drop('foo', 1)\n",
    "score_arrojado = score_menor_arrojado.assign(foo=1).merge(score_maior_arrojado.assign(foo=1), on = 'foo', suffixes=('_menor', '_maior')).drop('foo', 1)"
   ]
  },
  {
   "cell_type": "code",
   "execution_count": 255,
   "metadata": {},
   "outputs": [],
   "source": [
    "score_conservador.index = pd.MultiIndex.from_product((score_menor_conservador.Id, score_maior_conservador.Id))\n",
    "score_moderado.index = pd.MultiIndex.from_product((score_menor_moderado.Id, score_maior_moderado.Id))\n",
    "score_arrojado.index = pd.MultiIndex.from_product((score_menor_arrojado.Id, score_maior_arrojado.Id))"
   ]
  },
  {
   "cell_type": "markdown",
   "metadata": {},
   "source": [
    "Agora calculamos a distância euclidiana de cada pessoa nos grupos de score menor com CADA individuo no grupo equivalente de maior score. Essa etapa leva alguns minutos..."
   ]
  },
  {
   "cell_type": "code",
   "execution_count": 256,
   "metadata": {},
   "outputs": [],
   "source": [
    "score_conservador_dist = score_conservador.apply(lambda row: distance.euclidean((row[\"RendaMensal_menor\"], row[\"ValorPatrimonio_menor\"]), (row[\"RendaMensal_maior\"], row['ValorPatrimonio_maior'])),axis=1)\n",
    "score_moderado_dist = score_moderado.apply(lambda row: distance.euclidean((row[\"RendaMensal_menor\"], row[\"ValorPatrimonio_menor\"]), (row[\"RendaMensal_maior\"], row['ValorPatrimonio_maior'])),axis=1)\n",
    "score_arrojado_dist = score_arrojado.apply(lambda row: distance.euclidean((row[\"RendaMensal_menor\"], row[\"ValorPatrimonio_menor\"]), (row[\"RendaMensal_maior\"], row['ValorPatrimonio_maior'])),axis=1)"
   ]
  },
  {
   "cell_type": "markdown",
   "metadata": {},
   "source": [
    "Escolhemos para cada pessoa no grupo de menor score as CINCO pessoas mais próximas, e portanto mais semelhantes, com seu nivel de Renda e Patrimônio."
   ]
  },
  {
   "cell_type": "code",
   "execution_count": 257,
   "metadata": {},
   "outputs": [
    {
     "data": {
      "text/html": [
       "<div>\n",
       "<style scoped>\n",
       "    .dataframe tbody tr th:only-of-type {\n",
       "        vertical-align: middle;\n",
       "    }\n",
       "\n",
       "    .dataframe tbody tr th {\n",
       "        vertical-align: top;\n",
       "    }\n",
       "\n",
       "    .dataframe thead th {\n",
       "        text-align: right;\n",
       "    }\n",
       "</style>\n",
       "<table border=\"1\" class=\"dataframe\">\n",
       "  <thead>\n",
       "    <tr style=\"text-align: right;\">\n",
       "      <th></th>\n",
       "      <th>level_0</th>\n",
       "      <th>level_2</th>\n",
       "      <th>0</th>\n",
       "    </tr>\n",
       "  </thead>\n",
       "  <tbody>\n",
       "    <tr>\n",
       "      <td>0</td>\n",
       "      <td>$2b$10$.DCvvJ9WSDpqVP2xXjeSPe..Fx6NhsrK9ZzYadqLqCW.2eZGk5deO</td>\n",
       "      <td>$2b$10$.DCvvJ9WSDpqVP2xXjeSPeryRG1d8S1xINuVq0/2m/zOoUaFpFViq</td>\n",
       "      <td>0.000007</td>\n",
       "    </tr>\n",
       "    <tr>\n",
       "      <td>1</td>\n",
       "      <td>$2b$10$.DCvvJ9WSDpqVP2xXjeSPe..Fx6NhsrK9ZzYadqLqCW.2eZGk5deO</td>\n",
       "      <td>$2b$10$.DCvvJ9WSDpqVP2xXjeSPemW350qVAdpz4r2mL4odBRXYdzoYrcKG</td>\n",
       "      <td>0.000198</td>\n",
       "    </tr>\n",
       "    <tr>\n",
       "      <td>2</td>\n",
       "      <td>$2b$10$.DCvvJ9WSDpqVP2xXjeSPe..Fx6NhsrK9ZzYadqLqCW.2eZGk5deO</td>\n",
       "      <td>$2b$10$.DCvvJ9WSDpqVP2xXjeSPe3Rqm/NJAm1kIW7GHZ5MPFPeFRAYNAG.</td>\n",
       "      <td>0.000489</td>\n",
       "    </tr>\n",
       "    <tr>\n",
       "      <td>3</td>\n",
       "      <td>$2b$10$.DCvvJ9WSDpqVP2xXjeSPe..Fx6NhsrK9ZzYadqLqCW.2eZGk5deO</td>\n",
       "      <td>$2b$10$.DCvvJ9WSDpqVP2xXjeSPeXdA5DzZd.ug0.MhArMrDDK6d5t0tLJq</td>\n",
       "      <td>0.000667</td>\n",
       "    </tr>\n",
       "    <tr>\n",
       "      <td>4</td>\n",
       "      <td>$2b$10$.DCvvJ9WSDpqVP2xXjeSPe..Fx6NhsrK9ZzYadqLqCW.2eZGk5deO</td>\n",
       "      <td>$2b$10$.DCvvJ9WSDpqVP2xXjeSPeCN7A45.RjbvBapvlC80bI1CvnlZV04O</td>\n",
       "      <td>0.000835</td>\n",
       "    </tr>\n",
       "    <tr>\n",
       "      <td>5</td>\n",
       "      <td>$2b$10$.DCvvJ9WSDpqVP2xXjeSPe./VfMzqzrDosESSEWIeUhRXCRi4HFi2</td>\n",
       "      <td>$2b$10$.DCvvJ9WSDpqVP2xXjeSPemW350qVAdpz4r2mL4odBRXYdzoYrcKG</td>\n",
       "      <td>0.000150</td>\n",
       "    </tr>\n",
       "    <tr>\n",
       "      <td>6</td>\n",
       "      <td>$2b$10$.DCvvJ9WSDpqVP2xXjeSPe./VfMzqzrDosESSEWIeUhRXCRi4HFi2</td>\n",
       "      <td>$2b$10$.DCvvJ9WSDpqVP2xXjeSPeryRG1d8S1xINuVq0/2m/zOoUaFpFViq</td>\n",
       "      <td>0.000198</td>\n",
       "    </tr>\n",
       "    <tr>\n",
       "      <td>7</td>\n",
       "      <td>$2b$10$.DCvvJ9WSDpqVP2xXjeSPe./VfMzqzrDosESSEWIeUhRXCRi4HFi2</td>\n",
       "      <td>$2b$10$.DCvvJ9WSDpqVP2xXjeSPe3Rqm/NJAm1kIW7GHZ5MPFPeFRAYNAG.</td>\n",
       "      <td>0.000443</td>\n",
       "    </tr>\n",
       "    <tr>\n",
       "      <td>8</td>\n",
       "      <td>$2b$10$.DCvvJ9WSDpqVP2xXjeSPe./VfMzqzrDosESSEWIeUhRXCRi4HFi2</td>\n",
       "      <td>$2b$10$.DCvvJ9WSDpqVP2xXjeSPeXdA5DzZd.ug0.MhArMrDDK6d5t0tLJq</td>\n",
       "      <td>0.000713</td>\n",
       "    </tr>\n",
       "    <tr>\n",
       "      <td>9</td>\n",
       "      <td>$2b$10$.DCvvJ9WSDpqVP2xXjeSPe./VfMzqzrDosESSEWIeUhRXCRi4HFi2</td>\n",
       "      <td>$2b$10$.DCvvJ9WSDpqVP2xXjeSPeB.SpIzrYBbFR5rxVAGpvSLexXMcQATu</td>\n",
       "      <td>0.000800</td>\n",
       "    </tr>\n",
       "  </tbody>\n",
       "</table>\n",
       "</div>"
      ],
      "text/plain": [
       "                                                        level_0  \\\n",
       "0  $2b$10$.DCvvJ9WSDpqVP2xXjeSPe..Fx6NhsrK9ZzYadqLqCW.2eZGk5deO   \n",
       "1  $2b$10$.DCvvJ9WSDpqVP2xXjeSPe..Fx6NhsrK9ZzYadqLqCW.2eZGk5deO   \n",
       "2  $2b$10$.DCvvJ9WSDpqVP2xXjeSPe..Fx6NhsrK9ZzYadqLqCW.2eZGk5deO   \n",
       "3  $2b$10$.DCvvJ9WSDpqVP2xXjeSPe..Fx6NhsrK9ZzYadqLqCW.2eZGk5deO   \n",
       "4  $2b$10$.DCvvJ9WSDpqVP2xXjeSPe..Fx6NhsrK9ZzYadqLqCW.2eZGk5deO   \n",
       "5  $2b$10$.DCvvJ9WSDpqVP2xXjeSPe./VfMzqzrDosESSEWIeUhRXCRi4HFi2   \n",
       "6  $2b$10$.DCvvJ9WSDpqVP2xXjeSPe./VfMzqzrDosESSEWIeUhRXCRi4HFi2   \n",
       "7  $2b$10$.DCvvJ9WSDpqVP2xXjeSPe./VfMzqzrDosESSEWIeUhRXCRi4HFi2   \n",
       "8  $2b$10$.DCvvJ9WSDpqVP2xXjeSPe./VfMzqzrDosESSEWIeUhRXCRi4HFi2   \n",
       "9  $2b$10$.DCvvJ9WSDpqVP2xXjeSPe./VfMzqzrDosESSEWIeUhRXCRi4HFi2   \n",
       "\n",
       "                                                        level_2         0  \n",
       "0  $2b$10$.DCvvJ9WSDpqVP2xXjeSPeryRG1d8S1xINuVq0/2m/zOoUaFpFViq  0.000007  \n",
       "1  $2b$10$.DCvvJ9WSDpqVP2xXjeSPemW350qVAdpz4r2mL4odBRXYdzoYrcKG  0.000198  \n",
       "2  $2b$10$.DCvvJ9WSDpqVP2xXjeSPe3Rqm/NJAm1kIW7GHZ5MPFPeFRAYNAG.  0.000489  \n",
       "3  $2b$10$.DCvvJ9WSDpqVP2xXjeSPeXdA5DzZd.ug0.MhArMrDDK6d5t0tLJq  0.000667  \n",
       "4  $2b$10$.DCvvJ9WSDpqVP2xXjeSPeCN7A45.RjbvBapvlC80bI1CvnlZV04O  0.000835  \n",
       "5  $2b$10$.DCvvJ9WSDpqVP2xXjeSPemW350qVAdpz4r2mL4odBRXYdzoYrcKG  0.000150  \n",
       "6  $2b$10$.DCvvJ9WSDpqVP2xXjeSPeryRG1d8S1xINuVq0/2m/zOoUaFpFViq  0.000198  \n",
       "7  $2b$10$.DCvvJ9WSDpqVP2xXjeSPe3Rqm/NJAm1kIW7GHZ5MPFPeFRAYNAG.  0.000443  \n",
       "8  $2b$10$.DCvvJ9WSDpqVP2xXjeSPeXdA5DzZd.ug0.MhArMrDDK6d5t0tLJq  0.000713  \n",
       "9  $2b$10$.DCvvJ9WSDpqVP2xXjeSPeB.SpIzrYBbFR5rxVAGpvSLexXMcQATu  0.000800  "
      ]
     },
     "execution_count": 257,
     "metadata": {},
     "output_type": "execute_result"
    }
   ],
   "source": [
    "score_conservador_dist.groupby(level=0).nsmallest(5).reset_index()[[\"level_0\",\"level_2\",0]].head(10)"
   ]
  },
  {
   "cell_type": "code",
   "execution_count": 258,
   "metadata": {},
   "outputs": [],
   "source": [
    "conservadores = score_conservador_dist.groupby(level=0).nsmallest(5).reset_index()[[\"level_0\",\"level_2\"]]"
   ]
  },
  {
   "cell_type": "code",
   "execution_count": 259,
   "metadata": {},
   "outputs": [
    {
     "data": {
      "text/html": [
       "<div>\n",
       "<style scoped>\n",
       "    .dataframe tbody tr th:only-of-type {\n",
       "        vertical-align: middle;\n",
       "    }\n",
       "\n",
       "    .dataframe tbody tr th {\n",
       "        vertical-align: top;\n",
       "    }\n",
       "\n",
       "    .dataframe thead th {\n",
       "        text-align: right;\n",
       "    }\n",
       "</style>\n",
       "<table border=\"1\" class=\"dataframe\">\n",
       "  <thead>\n",
       "    <tr style=\"text-align: right;\">\n",
       "      <th></th>\n",
       "      <th>level_0</th>\n",
       "      <th>level_2</th>\n",
       "      <th>0</th>\n",
       "    </tr>\n",
       "  </thead>\n",
       "  <tbody>\n",
       "    <tr>\n",
       "      <td>0</td>\n",
       "      <td>$2b$10$.DCvvJ9WSDpqVP2xXjeSPe.3yqTnMb16SYnUAVuI4NC7FIooV.tba</td>\n",
       "      <td>$2b$10$.DCvvJ9WSDpqVP2xXjeSPeV1moS8G3hMP0G3yjl.z8AV76qchDUmm</td>\n",
       "      <td>0.000000e+00</td>\n",
       "    </tr>\n",
       "    <tr>\n",
       "      <td>1</td>\n",
       "      <td>$2b$10$.DCvvJ9WSDpqVP2xXjeSPe.3yqTnMb16SYnUAVuI4NC7FIooV.tba</td>\n",
       "      <td>$2b$10$.DCvvJ9WSDpqVP2xXjeSPexDkNKQnNj16R/Be8ik/NCgu97.J8/.y</td>\n",
       "      <td>0.000000e+00</td>\n",
       "    </tr>\n",
       "    <tr>\n",
       "      <td>2</td>\n",
       "      <td>$2b$10$.DCvvJ9WSDpqVP2xXjeSPe.3yqTnMb16SYnUAVuI4NC7FIooV.tba</td>\n",
       "      <td>$2b$10$.DCvvJ9WSDpqVP2xXjeSPeDNsmKHwjxqBvt9y4J6nNfV5F5fBZdD2</td>\n",
       "      <td>6.666667e-06</td>\n",
       "    </tr>\n",
       "    <tr>\n",
       "      <td>3</td>\n",
       "      <td>$2b$10$.DCvvJ9WSDpqVP2xXjeSPe.3yqTnMb16SYnUAVuI4NC7FIooV.tba</td>\n",
       "      <td>$2b$10$.DCvvJ9WSDpqVP2xXjeSPeV2C.CgIiWeK0clzvegZh6aQ0relBRXC</td>\n",
       "      <td>6.666667e-06</td>\n",
       "    </tr>\n",
       "    <tr>\n",
       "      <td>4</td>\n",
       "      <td>$2b$10$.DCvvJ9WSDpqVP2xXjeSPe.3yqTnMb16SYnUAVuI4NC7FIooV.tba</td>\n",
       "      <td>$2b$10$.DCvvJ9WSDpqVP2xXjeSPe26cJP.tNNqRi9krCtZKsXNlTVgqZHWe</td>\n",
       "      <td>6.666667e-06</td>\n",
       "    </tr>\n",
       "    <tr>\n",
       "      <td>5</td>\n",
       "      <td>$2b$10$.DCvvJ9WSDpqVP2xXjeSPe.5yNe1vv8BDJqijet6xP4o19Ci.S3/2</td>\n",
       "      <td>$2b$10$.DCvvJ9WSDpqVP2xXjeSPeY53EEsGSWyLqYJ9huhqS0OZabd6FJNC</td>\n",
       "      <td>0.000000e+00</td>\n",
       "    </tr>\n",
       "    <tr>\n",
       "      <td>6</td>\n",
       "      <td>$2b$10$.DCvvJ9WSDpqVP2xXjeSPe.5yNe1vv8BDJqijet6xP4o19Ci.S3/2</td>\n",
       "      <td>$2b$10$.DCvvJ9WSDpqVP2xXjeSPeJUK/IVa4dY37pKpXcsKf0ss4zdpCPOO</td>\n",
       "      <td>6.673333e-07</td>\n",
       "    </tr>\n",
       "    <tr>\n",
       "      <td>7</td>\n",
       "      <td>$2b$10$.DCvvJ9WSDpqVP2xXjeSPe.5yNe1vv8BDJqijet6xP4o19Ci.S3/2</td>\n",
       "      <td>$2b$10$.DCvvJ9WSDpqVP2xXjeSPe6elB5iITCk.VcbdFMTg0rVDKWsCRF/.</td>\n",
       "      <td>2.000000e-06</td>\n",
       "    </tr>\n",
       "    <tr>\n",
       "      <td>8</td>\n",
       "      <td>$2b$10$.DCvvJ9WSDpqVP2xXjeSPe.5yNe1vv8BDJqijet6xP4o19Ci.S3/2</td>\n",
       "      <td>$2b$10$.DCvvJ9WSDpqVP2xXjeSPe3tXSxTACX6/HeK6UBdLJaPUEeDGFJZW</td>\n",
       "      <td>6.000000e-06</td>\n",
       "    </tr>\n",
       "    <tr>\n",
       "      <td>9</td>\n",
       "      <td>$2b$10$.DCvvJ9WSDpqVP2xXjeSPe.5yNe1vv8BDJqijet6xP4o19Ci.S3/2</td>\n",
       "      <td>$2b$10$.DCvvJ9WSDpqVP2xXjeSPeiOI9Gaa/ORvaeQTyQlA0VVFEFNspJz2</td>\n",
       "      <td>6.666667e-06</td>\n",
       "    </tr>\n",
       "  </tbody>\n",
       "</table>\n",
       "</div>"
      ],
      "text/plain": [
       "                                                        level_0  \\\n",
       "0  $2b$10$.DCvvJ9WSDpqVP2xXjeSPe.3yqTnMb16SYnUAVuI4NC7FIooV.tba   \n",
       "1  $2b$10$.DCvvJ9WSDpqVP2xXjeSPe.3yqTnMb16SYnUAVuI4NC7FIooV.tba   \n",
       "2  $2b$10$.DCvvJ9WSDpqVP2xXjeSPe.3yqTnMb16SYnUAVuI4NC7FIooV.tba   \n",
       "3  $2b$10$.DCvvJ9WSDpqVP2xXjeSPe.3yqTnMb16SYnUAVuI4NC7FIooV.tba   \n",
       "4  $2b$10$.DCvvJ9WSDpqVP2xXjeSPe.3yqTnMb16SYnUAVuI4NC7FIooV.tba   \n",
       "5  $2b$10$.DCvvJ9WSDpqVP2xXjeSPe.5yNe1vv8BDJqijet6xP4o19Ci.S3/2   \n",
       "6  $2b$10$.DCvvJ9WSDpqVP2xXjeSPe.5yNe1vv8BDJqijet6xP4o19Ci.S3/2   \n",
       "7  $2b$10$.DCvvJ9WSDpqVP2xXjeSPe.5yNe1vv8BDJqijet6xP4o19Ci.S3/2   \n",
       "8  $2b$10$.DCvvJ9WSDpqVP2xXjeSPe.5yNe1vv8BDJqijet6xP4o19Ci.S3/2   \n",
       "9  $2b$10$.DCvvJ9WSDpqVP2xXjeSPe.5yNe1vv8BDJqijet6xP4o19Ci.S3/2   \n",
       "\n",
       "                                                        level_2             0  \n",
       "0  $2b$10$.DCvvJ9WSDpqVP2xXjeSPeV1moS8G3hMP0G3yjl.z8AV76qchDUmm  0.000000e+00  \n",
       "1  $2b$10$.DCvvJ9WSDpqVP2xXjeSPexDkNKQnNj16R/Be8ik/NCgu97.J8/.y  0.000000e+00  \n",
       "2  $2b$10$.DCvvJ9WSDpqVP2xXjeSPeDNsmKHwjxqBvt9y4J6nNfV5F5fBZdD2  6.666667e-06  \n",
       "3  $2b$10$.DCvvJ9WSDpqVP2xXjeSPeV2C.CgIiWeK0clzvegZh6aQ0relBRXC  6.666667e-06  \n",
       "4  $2b$10$.DCvvJ9WSDpqVP2xXjeSPe26cJP.tNNqRi9krCtZKsXNlTVgqZHWe  6.666667e-06  \n",
       "5  $2b$10$.DCvvJ9WSDpqVP2xXjeSPeY53EEsGSWyLqYJ9huhqS0OZabd6FJNC  0.000000e+00  \n",
       "6  $2b$10$.DCvvJ9WSDpqVP2xXjeSPeJUK/IVa4dY37pKpXcsKf0ss4zdpCPOO  6.673333e-07  \n",
       "7  $2b$10$.DCvvJ9WSDpqVP2xXjeSPe6elB5iITCk.VcbdFMTg0rVDKWsCRF/.  2.000000e-06  \n",
       "8  $2b$10$.DCvvJ9WSDpqVP2xXjeSPe3tXSxTACX6/HeK6UBdLJaPUEeDGFJZW  6.000000e-06  \n",
       "9  $2b$10$.DCvvJ9WSDpqVP2xXjeSPeiOI9Gaa/ORvaeQTyQlA0VVFEFNspJz2  6.666667e-06  "
      ]
     },
     "execution_count": 259,
     "metadata": {},
     "output_type": "execute_result"
    }
   ],
   "source": [
    "score_moderado_dist.groupby(level=0).nsmallest(5).reset_index()[[\"level_0\",\"level_2\",0]].head(10)"
   ]
  },
  {
   "cell_type": "code",
   "execution_count": 260,
   "metadata": {},
   "outputs": [],
   "source": [
    "moderados = score_moderado_dist.groupby(level=0).nsmallest(5).reset_index()[[\"level_0\",\"level_2\"]]"
   ]
  },
  {
   "cell_type": "code",
   "execution_count": 261,
   "metadata": {},
   "outputs": [
    {
     "data": {
      "text/html": [
       "<div>\n",
       "<style scoped>\n",
       "    .dataframe tbody tr th:only-of-type {\n",
       "        vertical-align: middle;\n",
       "    }\n",
       "\n",
       "    .dataframe tbody tr th {\n",
       "        vertical-align: top;\n",
       "    }\n",
       "\n",
       "    .dataframe thead th {\n",
       "        text-align: right;\n",
       "    }\n",
       "</style>\n",
       "<table border=\"1\" class=\"dataframe\">\n",
       "  <thead>\n",
       "    <tr style=\"text-align: right;\">\n",
       "      <th></th>\n",
       "      <th>level_0</th>\n",
       "      <th>level_2</th>\n",
       "      <th>0</th>\n",
       "    </tr>\n",
       "  </thead>\n",
       "  <tbody>\n",
       "    <tr>\n",
       "      <td>0</td>\n",
       "      <td>$2b$10$.DCvvJ9WSDpqVP2xXjeSPe2eoBICLq7z/BzTMDqI1attOiaZHkHbq</td>\n",
       "      <td>$2b$10$.DCvvJ9WSDpqVP2xXjeSPeyJHvHIRMByOxlLJ3.FmgWkwj5NXlCtS</td>\n",
       "      <td>3.333333e-07</td>\n",
       "    </tr>\n",
       "    <tr>\n",
       "      <td>1</td>\n",
       "      <td>$2b$10$.DCvvJ9WSDpqVP2xXjeSPe2eoBICLq7z/BzTMDqI1attOiaZHkHbq</td>\n",
       "      <td>$2b$10$.DCvvJ9WSDpqVP2xXjeSPen5xC6O9vclN4UU6GqtIjDrTe7oVizj6</td>\n",
       "      <td>2.433333e-05</td>\n",
       "    </tr>\n",
       "    <tr>\n",
       "      <td>2</td>\n",
       "      <td>$2b$10$.DCvvJ9WSDpqVP2xXjeSPe2eoBICLq7z/BzTMDqI1attOiaZHkHbq</td>\n",
       "      <td>$2b$10$.DCvvJ9WSDpqVP2xXjeSPem4IlMzRaejcxBTNVTNAtaZt1NYjnYjy</td>\n",
       "      <td>5.000111e-05</td>\n",
       "    </tr>\n",
       "    <tr>\n",
       "      <td>3</td>\n",
       "      <td>$2b$10$.DCvvJ9WSDpqVP2xXjeSPe2eoBICLq7z/BzTMDqI1attOiaZHkHbq</td>\n",
       "      <td>$2b$10$.DCvvJ9WSDpqVP2xXjeSPeo1CJXpFRMVbUfTQ85oPqL1lvAwdBq2u</td>\n",
       "      <td>8.333933e-05</td>\n",
       "    </tr>\n",
       "    <tr>\n",
       "      <td>4</td>\n",
       "      <td>$2b$10$.DCvvJ9WSDpqVP2xXjeSPe2eoBICLq7z/BzTMDqI1attOiaZHkHbq</td>\n",
       "      <td>$2b$10$.DCvvJ9WSDpqVP2xXjeSPePlJs0BzjLEDmDiqf3Ae81709c1LMnHK</td>\n",
       "      <td>8.335000e-05</td>\n",
       "    </tr>\n",
       "    <tr>\n",
       "      <td>5</td>\n",
       "      <td>$2b$10$.DCvvJ9WSDpqVP2xXjeSPe5tyCLI8yy/Mvq/.sR/yZOw3We1tVx0y</td>\n",
       "      <td>$2b$10$.DCvvJ9WSDpqVP2xXjeSPefsTcdoxtYy3r9G1I8ajHuRQDRiFUTBG</td>\n",
       "      <td>2.083376e-05</td>\n",
       "    </tr>\n",
       "    <tr>\n",
       "      <td>6</td>\n",
       "      <td>$2b$10$.DCvvJ9WSDpqVP2xXjeSPe5tyCLI8yy/Mvq/.sR/yZOw3We1tVx0y</td>\n",
       "      <td>$2b$10$.DCvvJ9WSDpqVP2xXjeSPem4IlMzRaejcxBTNVTNAtaZt1NYjnYjy</td>\n",
       "      <td>1.375065e-04</td>\n",
       "    </tr>\n",
       "    <tr>\n",
       "      <td>7</td>\n",
       "      <td>$2b$10$.DCvvJ9WSDpqVP2xXjeSPe5tyCLI8yy/Mvq/.sR/yZOw3We1tVx0y</td>\n",
       "      <td>$2b$10$.DCvvJ9WSDpqVP2xXjeSPeoF5T4hvUreedCkcPef2bNI729Wu2DMe</td>\n",
       "      <td>1.460488e-04</td>\n",
       "    </tr>\n",
       "    <tr>\n",
       "      <td>8</td>\n",
       "      <td>$2b$10$.DCvvJ9WSDpqVP2xXjeSPe5tyCLI8yy/Mvq/.sR/yZOw3We1tVx0y</td>\n",
       "      <td>$2b$10$.DCvvJ9WSDpqVP2xXjeSPe13qL1IYyV1x4.CCAelvOlR67WKyj9nq</td>\n",
       "      <td>1.463262e-04</td>\n",
       "    </tr>\n",
       "    <tr>\n",
       "      <td>9</td>\n",
       "      <td>$2b$10$.DCvvJ9WSDpqVP2xXjeSPe5tyCLI8yy/Mvq/.sR/yZOw3We1tVx0y</td>\n",
       "      <td>$2b$10$.DCvvJ9WSDpqVP2xXjeSPeyJHvHIRMByOxlLJ3.FmgWkwj5NXlCtS</td>\n",
       "      <td>1.875047e-04</td>\n",
       "    </tr>\n",
       "  </tbody>\n",
       "</table>\n",
       "</div>"
      ],
      "text/plain": [
       "                                                        level_0  \\\n",
       "0  $2b$10$.DCvvJ9WSDpqVP2xXjeSPe2eoBICLq7z/BzTMDqI1attOiaZHkHbq   \n",
       "1  $2b$10$.DCvvJ9WSDpqVP2xXjeSPe2eoBICLq7z/BzTMDqI1attOiaZHkHbq   \n",
       "2  $2b$10$.DCvvJ9WSDpqVP2xXjeSPe2eoBICLq7z/BzTMDqI1attOiaZHkHbq   \n",
       "3  $2b$10$.DCvvJ9WSDpqVP2xXjeSPe2eoBICLq7z/BzTMDqI1attOiaZHkHbq   \n",
       "4  $2b$10$.DCvvJ9WSDpqVP2xXjeSPe2eoBICLq7z/BzTMDqI1attOiaZHkHbq   \n",
       "5  $2b$10$.DCvvJ9WSDpqVP2xXjeSPe5tyCLI8yy/Mvq/.sR/yZOw3We1tVx0y   \n",
       "6  $2b$10$.DCvvJ9WSDpqVP2xXjeSPe5tyCLI8yy/Mvq/.sR/yZOw3We1tVx0y   \n",
       "7  $2b$10$.DCvvJ9WSDpqVP2xXjeSPe5tyCLI8yy/Mvq/.sR/yZOw3We1tVx0y   \n",
       "8  $2b$10$.DCvvJ9WSDpqVP2xXjeSPe5tyCLI8yy/Mvq/.sR/yZOw3We1tVx0y   \n",
       "9  $2b$10$.DCvvJ9WSDpqVP2xXjeSPe5tyCLI8yy/Mvq/.sR/yZOw3We1tVx0y   \n",
       "\n",
       "                                                        level_2             0  \n",
       "0  $2b$10$.DCvvJ9WSDpqVP2xXjeSPeyJHvHIRMByOxlLJ3.FmgWkwj5NXlCtS  3.333333e-07  \n",
       "1  $2b$10$.DCvvJ9WSDpqVP2xXjeSPen5xC6O9vclN4UU6GqtIjDrTe7oVizj6  2.433333e-05  \n",
       "2  $2b$10$.DCvvJ9WSDpqVP2xXjeSPem4IlMzRaejcxBTNVTNAtaZt1NYjnYjy  5.000111e-05  \n",
       "3  $2b$10$.DCvvJ9WSDpqVP2xXjeSPeo1CJXpFRMVbUfTQ85oPqL1lvAwdBq2u  8.333933e-05  \n",
       "4  $2b$10$.DCvvJ9WSDpqVP2xXjeSPePlJs0BzjLEDmDiqf3Ae81709c1LMnHK  8.335000e-05  \n",
       "5  $2b$10$.DCvvJ9WSDpqVP2xXjeSPefsTcdoxtYy3r9G1I8ajHuRQDRiFUTBG  2.083376e-05  \n",
       "6  $2b$10$.DCvvJ9WSDpqVP2xXjeSPem4IlMzRaejcxBTNVTNAtaZt1NYjnYjy  1.375065e-04  \n",
       "7  $2b$10$.DCvvJ9WSDpqVP2xXjeSPeoF5T4hvUreedCkcPef2bNI729Wu2DMe  1.460488e-04  \n",
       "8  $2b$10$.DCvvJ9WSDpqVP2xXjeSPe13qL1IYyV1x4.CCAelvOlR67WKyj9nq  1.463262e-04  \n",
       "9  $2b$10$.DCvvJ9WSDpqVP2xXjeSPeyJHvHIRMByOxlLJ3.FmgWkwj5NXlCtS  1.875047e-04  "
      ]
     },
     "execution_count": 261,
     "metadata": {},
     "output_type": "execute_result"
    }
   ],
   "source": [
    "score_arrojado_dist.groupby(level=0).nsmallest(5).reset_index()[[\"level_0\",\"level_2\",0]].head(10)"
   ]
  },
  {
   "cell_type": "code",
   "execution_count": 262,
   "metadata": {},
   "outputs": [],
   "source": [
    "arrojados = score_arrojado_dist.groupby(level=0).nsmallest(5).reset_index()[[\"level_0\",\"level_2\"]]"
   ]
  },
  {
   "cell_type": "markdown",
   "metadata": {},
   "source": [
    "Checando algumas pessoas para verificar se o algoritmo funcionou:"
   ]
  },
  {
   "cell_type": "code",
   "execution_count": 263,
   "metadata": {},
   "outputs": [
    {
     "data": {
      "text/html": [
       "<div>\n",
       "<style scoped>\n",
       "    .dataframe tbody tr th:only-of-type {\n",
       "        vertical-align: middle;\n",
       "    }\n",
       "\n",
       "    .dataframe tbody tr th {\n",
       "        vertical-align: top;\n",
       "    }\n",
       "\n",
       "    .dataframe thead th {\n",
       "        text-align: right;\n",
       "    }\n",
       "</style>\n",
       "<table border=\"1\" class=\"dataframe\">\n",
       "  <thead>\n",
       "    <tr style=\"text-align: right;\">\n",
       "      <th></th>\n",
       "      <th>Id</th>\n",
       "      <th>ScoreNivelConhecimento</th>\n",
       "      <th>PerfilInvestidor</th>\n",
       "      <th>RendaMensal</th>\n",
       "      <th>ValorPatrimonio</th>\n",
       "    </tr>\n",
       "  </thead>\n",
       "  <tbody>\n",
       "    <tr>\n",
       "      <td>535</td>\n",
       "      <td>$2b$10$.DCvvJ9WSDpqVP2xXjeSPefsTcdoxtYy3r9G1I8ajHuRQDRiFUTBG</td>\n",
       "      <td>4.0</td>\n",
       "      <td>5</td>\n",
       "      <td>400.0</td>\n",
       "      <td>2200.0</td>\n",
       "    </tr>\n",
       "    <tr>\n",
       "      <td>10599</td>\n",
       "      <td>$2b$10$.DCvvJ9WSDpqVP2xXjeSPe5tyCLI8yy/Mvq/.sR/yZOw3We1tVx0y</td>\n",
       "      <td>2.0</td>\n",
       "      <td>5</td>\n",
       "      <td>350.0</td>\n",
       "      <td>2000.0</td>\n",
       "    </tr>\n",
       "    <tr>\n",
       "      <td>20252</td>\n",
       "      <td>$2b$10$.DCvvJ9WSDpqVP2xXjeSPem4IlMzRaejcxBTNVTNAtaZt1NYjnYjy</td>\n",
       "      <td>5.0</td>\n",
       "      <td>5</td>\n",
       "      <td>680.0</td>\n",
       "      <td>4000.0</td>\n",
       "    </tr>\n",
       "    <tr>\n",
       "      <td>35141</td>\n",
       "      <td>$2b$10$.DCvvJ9WSDpqVP2xXjeSPeyJHvHIRMByOxlLJ3.FmgWkwj5NXlCtS</td>\n",
       "      <td>4.0</td>\n",
       "      <td>5</td>\n",
       "      <td>800.0</td>\n",
       "      <td>4000.0</td>\n",
       "    </tr>\n",
       "  </tbody>\n",
       "</table>\n",
       "</div>"
      ],
      "text/plain": [
       "                                                                 Id  \\\n",
       "535    $2b$10$.DCvvJ9WSDpqVP2xXjeSPefsTcdoxtYy3r9G1I8ajHuRQDRiFUTBG   \n",
       "10599  $2b$10$.DCvvJ9WSDpqVP2xXjeSPe5tyCLI8yy/Mvq/.sR/yZOw3We1tVx0y   \n",
       "20252  $2b$10$.DCvvJ9WSDpqVP2xXjeSPem4IlMzRaejcxBTNVTNAtaZt1NYjnYjy   \n",
       "35141  $2b$10$.DCvvJ9WSDpqVP2xXjeSPeyJHvHIRMByOxlLJ3.FmgWkwj5NXlCtS   \n",
       "\n",
       "       ScoreNivelConhecimento  PerfilInvestidor  RendaMensal  ValorPatrimonio  \n",
       "535                       4.0                 5        400.0           2200.0  \n",
       "10599                     2.0                 5        350.0           2000.0  \n",
       "20252                     5.0                 5        680.0           4000.0  \n",
       "35141                     4.0                 5        800.0           4000.0  "
      ]
     },
     "execution_count": 263,
     "metadata": {},
     "output_type": "execute_result"
    }
   ],
   "source": [
    "dataset_1[[\"Id\",\"ScoreNivelConhecimento\",\"PerfilInvestidor\",'RendaMensal',\"ValorPatrimonio\"]]\\\n",
    "[(dataset_1.Id == \"$2b$10$.DCvvJ9WSDpqVP2xXjeSPe5tyCLI8yy/Mvq/.sR/yZOw3We1tVx0y\") |\\\n",
    "(dataset_1.Id == \"$2b$10$.DCvvJ9WSDpqVP2xXjeSPefsTcdoxtYy3r9G1I8ajHuRQDRiFUTBG\") |\\\n",
    " (dataset_1.Id == \"$2b$10$.DCvvJ9WSDpqVP2xXjeSPem4IlMzRaejcxBTNVTNAtaZt1NYjnYjy\") |\\\n",
    " (dataset_1.Id == \"$2b$10$.DCvvJ9WSDpqVP2xXjeSPeyJHvHIRMByOxlLJ3.FmgWkwj5NXlCtS\")\\\n",
    "].drop_duplicates()"
   ]
  },
  {
   "cell_type": "code",
   "execution_count": 264,
   "metadata": {},
   "outputs": [
    {
     "data": {
      "text/html": [
       "<div>\n",
       "<style scoped>\n",
       "    .dataframe tbody tr th:only-of-type {\n",
       "        vertical-align: middle;\n",
       "    }\n",
       "\n",
       "    .dataframe tbody tr th {\n",
       "        vertical-align: top;\n",
       "    }\n",
       "\n",
       "    .dataframe thead th {\n",
       "        text-align: right;\n",
       "    }\n",
       "</style>\n",
       "<table border=\"1\" class=\"dataframe\">\n",
       "  <thead>\n",
       "    <tr style=\"text-align: right;\">\n",
       "      <th></th>\n",
       "      <th>Id</th>\n",
       "      <th>ScoreNivelConhecimento</th>\n",
       "      <th>PerfilInvestidor</th>\n",
       "      <th>RendaMensal</th>\n",
       "      <th>ValorPatrimonio</th>\n",
       "    </tr>\n",
       "  </thead>\n",
       "  <tbody>\n",
       "    <tr>\n",
       "      <td>4975</td>\n",
       "      <td>$2b$10$.DCvvJ9WSDpqVP2xXjeSPe.5yNe1vv8BDJqijet6xP4o19Ci.S3/2</td>\n",
       "      <td>3.0</td>\n",
       "      <td>3</td>\n",
       "      <td>3500.0</td>\n",
       "      <td>15000.0</td>\n",
       "    </tr>\n",
       "    <tr>\n",
       "      <td>20066</td>\n",
       "      <td>$2b$10$.DCvvJ9WSDpqVP2xXjeSPeiOI9Gaa/ORvaeQTyQlA0VVFEFNspJz2</td>\n",
       "      <td>4.0</td>\n",
       "      <td>3</td>\n",
       "      <td>3500.0</td>\n",
       "      <td>25000.0</td>\n",
       "    </tr>\n",
       "    <tr>\n",
       "      <td>32587</td>\n",
       "      <td>$2b$10$.DCvvJ9WSDpqVP2xXjeSPeY53EEsGSWyLqYJ9huhqS0OZabd6FJNC</td>\n",
       "      <td>5.0</td>\n",
       "      <td>3</td>\n",
       "      <td>3500.0</td>\n",
       "      <td>15000.0</td>\n",
       "    </tr>\n",
       "    <tr>\n",
       "      <td>36760</td>\n",
       "      <td>$2b$10$.DCvvJ9WSDpqVP2xXjeSPeJUK/IVa4dY37pKpXcsKf0ss4zdpCPOO</td>\n",
       "      <td>4.0</td>\n",
       "      <td>3</td>\n",
       "      <td>3500.0</td>\n",
       "      <td>13999.0</td>\n",
       "    </tr>\n",
       "  </tbody>\n",
       "</table>\n",
       "</div>"
      ],
      "text/plain": [
       "                                                                 Id  \\\n",
       "4975   $2b$10$.DCvvJ9WSDpqVP2xXjeSPe.5yNe1vv8BDJqijet6xP4o19Ci.S3/2   \n",
       "20066  $2b$10$.DCvvJ9WSDpqVP2xXjeSPeiOI9Gaa/ORvaeQTyQlA0VVFEFNspJz2   \n",
       "32587  $2b$10$.DCvvJ9WSDpqVP2xXjeSPeY53EEsGSWyLqYJ9huhqS0OZabd6FJNC   \n",
       "36760  $2b$10$.DCvvJ9WSDpqVP2xXjeSPeJUK/IVa4dY37pKpXcsKf0ss4zdpCPOO   \n",
       "\n",
       "       ScoreNivelConhecimento  PerfilInvestidor  RendaMensal  ValorPatrimonio  \n",
       "4975                      3.0                 3       3500.0          15000.0  \n",
       "20066                     4.0                 3       3500.0          25000.0  \n",
       "32587                     5.0                 3       3500.0          15000.0  \n",
       "36760                     4.0                 3       3500.0          13999.0  "
      ]
     },
     "execution_count": 264,
     "metadata": {},
     "output_type": "execute_result"
    }
   ],
   "source": [
    "dataset_1[[\"Id\",\"ScoreNivelConhecimento\",\"PerfilInvestidor\",'RendaMensal',\"ValorPatrimonio\"]]\\\n",
    "[(dataset_1.Id == \"$2b$10$.DCvvJ9WSDpqVP2xXjeSPe.5yNe1vv8BDJqijet6xP4o19Ci.S3/2\") |\\\n",
    "(dataset_1.Id == \"$2b$10$.DCvvJ9WSDpqVP2xXjeSPeY53EEsGSWyLqYJ9huhqS0OZabd6FJNC\") |\\\n",
    " (dataset_1.Id == \"$2b$10$.DCvvJ9WSDpqVP2xXjeSPeJUK/IVa4dY37pKpXcsKf0ss4zdpCPOO\") |\\\n",
    " (dataset_1.Id == \"$2b$10$.DCvvJ9WSDpqVP2xXjeSPeiOI9Gaa/ORvaeQTyQlA0VVFEFNspJz2\")\\\n",
    "].drop_duplicates()"
   ]
  },
  {
   "cell_type": "code",
   "execution_count": 265,
   "metadata": {},
   "outputs": [
    {
     "data": {
      "text/html": [
       "<div>\n",
       "<style scoped>\n",
       "    .dataframe tbody tr th:only-of-type {\n",
       "        vertical-align: middle;\n",
       "    }\n",
       "\n",
       "    .dataframe tbody tr th {\n",
       "        vertical-align: top;\n",
       "    }\n",
       "\n",
       "    .dataframe thead th {\n",
       "        text-align: right;\n",
       "    }\n",
       "</style>\n",
       "<table border=\"1\" class=\"dataframe\">\n",
       "  <thead>\n",
       "    <tr style=\"text-align: right;\">\n",
       "      <th></th>\n",
       "      <th>Id</th>\n",
       "      <th>ScoreNivelConhecimento</th>\n",
       "      <th>PerfilInvestidor</th>\n",
       "      <th>RendaMensal</th>\n",
       "      <th>ValorPatrimonio</th>\n",
       "    </tr>\n",
       "  </thead>\n",
       "  <tbody>\n",
       "    <tr>\n",
       "      <td>1512</td>\n",
       "      <td>$2b$10$.DCvvJ9WSDpqVP2xXjeSPe./VfMzqzrDosESSEWIeUhRXCRi4HFi2</td>\n",
       "      <td>1.0</td>\n",
       "      <td>1</td>\n",
       "      <td>1950.0</td>\n",
       "      <td>300000.0</td>\n",
       "    </tr>\n",
       "    <tr>\n",
       "      <td>1705</td>\n",
       "      <td>$2b$10$.DCvvJ9WSDpqVP2xXjeSPe3Rqm/NJAm1kIW7GHZ5MPFPeFRAYNAG.</td>\n",
       "      <td>4.0</td>\n",
       "      <td>2</td>\n",
       "      <td>3000.0</td>\n",
       "      <td>400000.0</td>\n",
       "    </tr>\n",
       "    <tr>\n",
       "      <td>6644</td>\n",
       "      <td>$2b$10$.DCvvJ9WSDpqVP2xXjeSPeryRG1d8S1xINuVq0/2m/zOoUaFpFViq</td>\n",
       "      <td>4.0</td>\n",
       "      <td>2</td>\n",
       "      <td>2000.0</td>\n",
       "      <td>5000.0</td>\n",
       "    </tr>\n",
       "    <tr>\n",
       "      <td>26675</td>\n",
       "      <td>$2b$10$.DCvvJ9WSDpqVP2xXjeSPeXdA5DzZd.ug0.MhArMrDDK6d5t0tLJq</td>\n",
       "      <td>4.0</td>\n",
       "      <td>2</td>\n",
       "      <td>3600.0</td>\n",
       "      <td>14000.0</td>\n",
       "    </tr>\n",
       "  </tbody>\n",
       "</table>\n",
       "</div>"
      ],
      "text/plain": [
       "                                                                 Id  \\\n",
       "1512   $2b$10$.DCvvJ9WSDpqVP2xXjeSPe./VfMzqzrDosESSEWIeUhRXCRi4HFi2   \n",
       "1705   $2b$10$.DCvvJ9WSDpqVP2xXjeSPe3Rqm/NJAm1kIW7GHZ5MPFPeFRAYNAG.   \n",
       "6644   $2b$10$.DCvvJ9WSDpqVP2xXjeSPeryRG1d8S1xINuVq0/2m/zOoUaFpFViq   \n",
       "26675  $2b$10$.DCvvJ9WSDpqVP2xXjeSPeXdA5DzZd.ug0.MhArMrDDK6d5t0tLJq   \n",
       "\n",
       "       ScoreNivelConhecimento  PerfilInvestidor  RendaMensal  ValorPatrimonio  \n",
       "1512                      1.0                 1       1950.0         300000.0  \n",
       "1705                      4.0                 2       3000.0         400000.0  \n",
       "6644                      4.0                 2       2000.0           5000.0  \n",
       "26675                     4.0                 2       3600.0          14000.0  "
      ]
     },
     "execution_count": 265,
     "metadata": {},
     "output_type": "execute_result"
    }
   ],
   "source": [
    "dataset_1[[\"Id\",\"ScoreNivelConhecimento\",\"PerfilInvestidor\",'RendaMensal',\"ValorPatrimonio\"]]\\\n",
    "[(dataset_1.Id == \"$2b$10$.DCvvJ9WSDpqVP2xXjeSPe./VfMzqzrDosESSEWIeUhRXCRi4HFi2\") |\\\n",
    "(dataset_1.Id == \"$2b$10$.DCvvJ9WSDpqVP2xXjeSPeryRG1d8S1xINuVq0/2m/zOoUaFpFViq\") |\\\n",
    " (dataset_1.Id == \"$2b$10$.DCvvJ9WSDpqVP2xXjeSPe3Rqm/NJAm1kIW7GHZ5MPFPeFRAYNAG.\") |\\\n",
    " (dataset_1.Id == \"$2b$10$.DCvvJ9WSDpqVP2xXjeSPeXdA5DzZd.ug0.MhArMrDDK6d5t0tLJq\")\\\n",
    "].drop_duplicates()"
   ]
  },
  {
   "cell_type": "markdown",
   "metadata": {},
   "source": [
    "Os perfis parecem proximos, a distância funcionou para estes casos (a aproximação também vai depedender a disponibilidade de perfis no grupo com maior score para aproximar)."
   ]
  },
  {
   "cell_type": "markdown",
   "metadata": {},
   "source": [
    "Obtemos os investimentos que estas cinco pessoas proximas possuem:"
   ]
  },
  {
   "cell_type": "code",
   "execution_count": 266,
   "metadata": {},
   "outputs": [],
   "source": [
    "conservadores = conservadores.rename(columns={\"level_2\": \"Id\", \"level_0\": \"Main\"}).merge(dataset_1[[\"Id\",\"ProdutoId\",\"NomeDoProduto\"]], how='left')\\\n",
    ".merge(dataset_3[[\"ProdutoId\",\"DescricaoAtivo__c\"]],how='left')\n",
    "moderados = moderados.rename(columns={\"level_2\": \"Id\", \"level_0\": \"Main\"}).merge(dataset_1[[\"Id\",\"ProdutoId\",\"NomeDoProduto\"]], how='left')\\\n",
    ".merge(dataset_3[[\"ProdutoId\",\"DescricaoAtivo__c\"]],how='left')\n",
    "arrojados = arrojados.rename(columns={\"level_2\": \"Id\", \"level_0\": \"Main\"}).merge(dataset_1[[\"Id\",\"ProdutoId\",\"NomeDoProduto\"]], how='left')\\\n",
    ".merge(dataset_3[[\"ProdutoId\",\"DescricaoAtivo__c\"]],how='left')"
   ]
  },
  {
   "cell_type": "markdown",
   "metadata": {},
   "source": [
    "Para o usuário '$2b$10$.DCvvJ9WSDpqVP2xXjeSPe..Fx6NhsrK9ZzYadqLqCW.2eZGk5deO' seriam oferecido os seguintes produtos:"
   ]
  },
  {
   "cell_type": "code",
   "execution_count": 267,
   "metadata": {},
   "outputs": [
    {
     "data": {
      "text/html": [
       "<div>\n",
       "<style scoped>\n",
       "    .dataframe tbody tr th:only-of-type {\n",
       "        vertical-align: middle;\n",
       "    }\n",
       "\n",
       "    .dataframe tbody tr th {\n",
       "        vertical-align: top;\n",
       "    }\n",
       "\n",
       "    .dataframe thead th {\n",
       "        text-align: right;\n",
       "    }\n",
       "</style>\n",
       "<table border=\"1\" class=\"dataframe\">\n",
       "  <thead>\n",
       "    <tr style=\"text-align: right;\">\n",
       "      <th></th>\n",
       "      <th>ProdutoId</th>\n",
       "      <th>NomeDoProduto</th>\n",
       "      <th>DescricaoAtivo__c</th>\n",
       "    </tr>\n",
       "  </thead>\n",
       "  <tbody>\n",
       "    <tr>\n",
       "      <td>0</td>\n",
       "      <td>a0W6A000008FwYQUA0</td>\n",
       "      <td>SAM JURO REAL RF FIC FI</td>\n",
       "      <td>O FUNDO tem por objetivo investir em ativos financeiros e/ou modalidades operacionais de renda fixa que busquem acompanhar as variações do Índice de Mercado ANBIMA IMA-B 5, por meio da aplicação d...</td>\n",
       "    </tr>\n",
       "    <tr>\n",
       "      <td>1</td>\n",
       "      <td>a0W6A000009GZdgUAG</td>\n",
       "      <td>PI SELIC RF SIMPLES FI</td>\n",
       "      <td>O FUNDO tem por objetivo investir em ativos financeiros e/ou modalidades operacionais de renda fixa que busquem acompanhar as variações das taxas de juros pós-fixadas (CDI/Selic).\\nOs principais r...</td>\n",
       "    </tr>\n",
       "    <tr>\n",
       "      <td>3</td>\n",
       "      <td>a0W3u00000AdFaXEAV</td>\n",
       "      <td>RB CAPITAL VITORIA DEB INCENTIVADAS FIC</td>\n",
       "      <td>O Objetivo do Fundo é obter  retornos superiores ao CDI, podendo utilizar estratégias nos mercados de títulos públicos, derivativos e títulos privados, buscando proporcionar aos seus cotistas reto...</td>\n",
       "    </tr>\n",
       "    <tr>\n",
       "      <td>9</td>\n",
       "      <td>a0W3u000009PDeeEAG</td>\n",
       "      <td>LCA</td>\n",
       "      <td>A Letra de Cr�dito Agroneg�cio, de forma simplificada, � como um empr�stimo que voc� faz ao banco e est� relacionado aos financiamentos no ramo agroneg�cio, em que o banco te remunera com juros. O...</td>\n",
       "    </tr>\n",
       "    <tr>\n",
       "      <td>10</td>\n",
       "      <td>a0W3u00000AdMmqEAF</td>\n",
       "      <td>LCA</td>\n",
       "      <td>A Letra de Crédito Agronegócio, de forma simplificada, é como um empréstimo que você faz ao banco e está relacionado aos financiamentos no ramo agronegócio, em que o banco te remunera com juros. O...</td>\n",
       "    </tr>\n",
       "    <tr>\n",
       "      <td>11</td>\n",
       "      <td>a0W6A000009tfFDUAY</td>\n",
       "      <td>LCA</td>\n",
       "      <td>A Letra de Crédito Agronegócio, de forma simplificada, é como um empréstimo que você faz ao banco e está relacionado aos financiamentos no ramo agronegócio, em que o banco te remunera com juros. O...</td>\n",
       "    </tr>\n",
       "    <tr>\n",
       "      <td>13</td>\n",
       "      <td>a0W6A000009JCogUAG</td>\n",
       "      <td>LCI</td>\n",
       "      <td>A Letra de Crédito Imobiliário, de forma simplificada, é como um empréstimo que você faz ao banco e está relacionado aos financiamentos no ramo imobiliário, em que o banco te remunera com juros. O...</td>\n",
       "    </tr>\n",
       "    <tr>\n",
       "      <td>14</td>\n",
       "      <td>a0W3u000009PDnWEAW</td>\n",
       "      <td>CDB</td>\n",
       "      <td>O Certificado de Depósito Bancário, de forma simplificada, é como um empréstimo que você faz ao banco e ele te remunera com juros. Os juros são definidos na data de contratação/investimento, poden...</td>\n",
       "    </tr>\n",
       "    <tr>\n",
       "      <td>15</td>\n",
       "      <td>a0W3u00000CWNiUEAX</td>\n",
       "      <td>LCA</td>\n",
       "      <td>A Letra de Cr�dito Agroneg�cio, de forma simplificada, � como um empr�stimo que voc� faz ao banco e est� relacionado aos financiamentos no ramo agroneg�cio, em que o banco te remunera com juros. O...</td>\n",
       "    </tr>\n",
       "    <tr>\n",
       "      <td>16</td>\n",
       "      <td>a0W6A000009L0FgUAK</td>\n",
       "      <td>RENATO SANTANIELLO - SANTANDER PRIVATE</td>\n",
       "      <td>A Carteira SAM PRIVATE PI MULTIMERCADO CP FI nasceu por meio de uma parceria com o Santander Private Banking, que gere a fortuna de clientes com patrimônio acima de 1 milhão de reais. Agora, parti...</td>\n",
       "    </tr>\n",
       "    <tr>\n",
       "      <td>17</td>\n",
       "      <td>a0W3u00000CWFPfEAP</td>\n",
       "      <td>LC</td>\n",
       "      <td>A Letra de Câmbio, de forma simplificada, é como um empréstimo que você faz a uma instituição financeira e ela te remunera com juros. Os juros são definidos na data de contratação/investimento, po...</td>\n",
       "    </tr>\n",
       "  </tbody>\n",
       "</table>\n",
       "</div>"
      ],
      "text/plain": [
       "             ProdutoId                            NomeDoProduto  \\\n",
       "0   a0W6A000008FwYQUA0                  SAM JURO REAL RF FIC FI   \n",
       "1   a0W6A000009GZdgUAG                   PI SELIC RF SIMPLES FI   \n",
       "3   a0W3u00000AdFaXEAV  RB CAPITAL VITORIA DEB INCENTIVADAS FIC   \n",
       "9   a0W3u000009PDeeEAG                                      LCA   \n",
       "10  a0W3u00000AdMmqEAF                                      LCA   \n",
       "11  a0W6A000009tfFDUAY                                      LCA   \n",
       "13  a0W6A000009JCogUAG                                      LCI   \n",
       "14  a0W3u000009PDnWEAW                                      CDB   \n",
       "15  a0W3u00000CWNiUEAX                                      LCA   \n",
       "16  a0W6A000009L0FgUAK   RENATO SANTANIELLO - SANTANDER PRIVATE   \n",
       "17  a0W3u00000CWFPfEAP                                       LC   \n",
       "\n",
       "                                                                                                                                                                                          DescricaoAtivo__c  \n",
       "0   O FUNDO tem por objetivo investir em ativos financeiros e/ou modalidades operacionais de renda fixa que busquem acompanhar as variações do Índice de Mercado ANBIMA IMA-B 5, por meio da aplicação d...  \n",
       "1   O FUNDO tem por objetivo investir em ativos financeiros e/ou modalidades operacionais de renda fixa que busquem acompanhar as variações das taxas de juros pós-fixadas (CDI/Selic).\\nOs principais r...  \n",
       "3   O Objetivo do Fundo é obter  retornos superiores ao CDI, podendo utilizar estratégias nos mercados de títulos públicos, derivativos e títulos privados, buscando proporcionar aos seus cotistas reto...  \n",
       "9   A Letra de Cr�dito Agroneg�cio, de forma simplificada, � como um empr�stimo que voc� faz ao banco e est� relacionado aos financiamentos no ramo agroneg�cio, em que o banco te remunera com juros. O...  \n",
       "10  A Letra de Crédito Agronegócio, de forma simplificada, é como um empréstimo que você faz ao banco e está relacionado aos financiamentos no ramo agronegócio, em que o banco te remunera com juros. O...  \n",
       "11  A Letra de Crédito Agronegócio, de forma simplificada, é como um empréstimo que você faz ao banco e está relacionado aos financiamentos no ramo agronegócio, em que o banco te remunera com juros. O...  \n",
       "13  A Letra de Crédito Imobiliário, de forma simplificada, é como um empréstimo que você faz ao banco e está relacionado aos financiamentos no ramo imobiliário, em que o banco te remunera com juros. O...  \n",
       "14  O Certificado de Depósito Bancário, de forma simplificada, é como um empréstimo que você faz ao banco e ele te remunera com juros. Os juros são definidos na data de contratação/investimento, poden...  \n",
       "15  A Letra de Cr�dito Agroneg�cio, de forma simplificada, � como um empr�stimo que voc� faz ao banco e est� relacionado aos financiamentos no ramo agroneg�cio, em que o banco te remunera com juros. O...  \n",
       "16  A Carteira SAM PRIVATE PI MULTIMERCADO CP FI nasceu por meio de uma parceria com o Santander Private Banking, que gere a fortuna de clientes com patrimônio acima de 1 milhão de reais. Agora, parti...  \n",
       "17  A Letra de Câmbio, de forma simplificada, é como um empréstimo que você faz a uma instituição financeira e ela te remunera com juros. Os juros são definidos na data de contratação/investimento, po...  "
      ]
     },
     "execution_count": 267,
     "metadata": {},
     "output_type": "execute_result"
    }
   ],
   "source": [
    "pd.set_option('display.max_colwidth', 200)\n",
    "conservadores[[\"ProdutoId\",\"NomeDoProduto\",\"DescricaoAtivo__c\"]][conservadores.Main =='$2b$10$.DCvvJ9WSDpqVP2xXjeSPe..Fx6NhsrK9ZzYadqLqCW.2eZGk5deO'].drop_duplicates()"
   ]
  }
 ],
 "metadata": {
  "kernelspec": {
   "display_name": "Python 3",
   "language": "python",
   "name": "python3"
  },
  "language_info": {
   "codemirror_mode": {
    "name": "ipython",
    "version": 3
   },
   "file_extension": ".py",
   "mimetype": "text/x-python",
   "name": "python",
   "nbconvert_exporter": "python",
   "pygments_lexer": "ipython3",
   "version": "3.7.4"
  }
 },
 "nbformat": 4,
 "nbformat_minor": 2
}
